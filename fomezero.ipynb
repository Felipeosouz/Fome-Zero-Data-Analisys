{
 "cells": [
  {
   "cell_type": "code",
   "execution_count": 339,
   "id": "cff4a11c-6f63-4436-8817-3423f0d96820",
   "metadata": {},
   "outputs": [
    {
     "data": {
      "text/plain": [
       "(7527, 21)"
      ]
     },
     "execution_count": 339,
     "metadata": {},
     "output_type": "execute_result"
    }
   ],
   "source": [
    "import pandas as pd\n",
    "\n",
    "df = pd.read_csv(\"zomato.csv\")\n",
    "\n",
    "df.shape\n"
   ]
  },
  {
   "cell_type": "code",
   "execution_count": 340,
   "id": "cb09c800-3ae1-47ea-a8bf-1d7a0f8ec9f2",
   "metadata": {},
   "outputs": [
    {
     "data": {
      "text/html": [
       "<div>\n",
       "<style scoped>\n",
       "    .dataframe tbody tr th:only-of-type {\n",
       "        vertical-align: middle;\n",
       "    }\n",
       "\n",
       "    .dataframe tbody tr th {\n",
       "        vertical-align: top;\n",
       "    }\n",
       "\n",
       "    .dataframe thead th {\n",
       "        text-align: right;\n",
       "    }\n",
       "</style>\n",
       "<table border=\"1\" class=\"dataframe\">\n",
       "  <thead>\n",
       "    <tr style=\"text-align: right;\">\n",
       "      <th></th>\n",
       "      <th>Restaurant ID</th>\n",
       "      <th>Restaurant Name</th>\n",
       "      <th>Country Code</th>\n",
       "      <th>City</th>\n",
       "      <th>Address</th>\n",
       "      <th>Locality</th>\n",
       "      <th>Locality Verbose</th>\n",
       "      <th>Longitude</th>\n",
       "      <th>Latitude</th>\n",
       "      <th>Cuisines</th>\n",
       "      <th>...</th>\n",
       "      <th>Currency</th>\n",
       "      <th>Has Table booking</th>\n",
       "      <th>Has Online delivery</th>\n",
       "      <th>Is delivering now</th>\n",
       "      <th>Switch to order menu</th>\n",
       "      <th>Price range</th>\n",
       "      <th>Aggregate rating</th>\n",
       "      <th>Rating color</th>\n",
       "      <th>Rating text</th>\n",
       "      <th>Votes</th>\n",
       "    </tr>\n",
       "  </thead>\n",
       "  <tbody>\n",
       "    <tr>\n",
       "      <th>0</th>\n",
       "      <td>6310675</td>\n",
       "      <td>Mama Lou's Italian Kitchen</td>\n",
       "      <td>162</td>\n",
       "      <td>Las Piñas City</td>\n",
       "      <td>Block 1, Lot 36, Tropical Avenue Corner Tropic...</td>\n",
       "      <td>BF International</td>\n",
       "      <td>BF International, Las Piñas City</td>\n",
       "      <td>121.009787</td>\n",
       "      <td>14.447615</td>\n",
       "      <td>Italian</td>\n",
       "      <td>...</td>\n",
       "      <td>Botswana Pula(P)</td>\n",
       "      <td>1</td>\n",
       "      <td>0</td>\n",
       "      <td>0</td>\n",
       "      <td>0</td>\n",
       "      <td>3</td>\n",
       "      <td>4.6</td>\n",
       "      <td>3F7E00</td>\n",
       "      <td>Excellent</td>\n",
       "      <td>619</td>\n",
       "    </tr>\n",
       "    <tr>\n",
       "      <th>1</th>\n",
       "      <td>6310675</td>\n",
       "      <td>Mama Lou's Italian Kitchen</td>\n",
       "      <td>162</td>\n",
       "      <td>Las Piñas City</td>\n",
       "      <td>Block 1, Lot 36, Tropical Avenue Corner Tropic...</td>\n",
       "      <td>BF International</td>\n",
       "      <td>BF International, Las Piñas City</td>\n",
       "      <td>121.009787</td>\n",
       "      <td>14.447615</td>\n",
       "      <td>Italian</td>\n",
       "      <td>...</td>\n",
       "      <td>Botswana Pula(P)</td>\n",
       "      <td>1</td>\n",
       "      <td>0</td>\n",
       "      <td>0</td>\n",
       "      <td>0</td>\n",
       "      <td>3</td>\n",
       "      <td>4.6</td>\n",
       "      <td>3F7E00</td>\n",
       "      <td>Excellent</td>\n",
       "      <td>619</td>\n",
       "    </tr>\n",
       "    <tr>\n",
       "      <th>2</th>\n",
       "      <td>6314542</td>\n",
       "      <td>Blackbird</td>\n",
       "      <td>162</td>\n",
       "      <td>Makati City</td>\n",
       "      <td>Nielson Tower, Ayala Triangle Gardens, Salcedo...</td>\n",
       "      <td>Ayala Triangle Gardens, Salcedo Village, Makat...</td>\n",
       "      <td>Ayala Triangle Gardens, Salcedo Village, Makat...</td>\n",
       "      <td>121.024562</td>\n",
       "      <td>14.556042</td>\n",
       "      <td>European, Asian</td>\n",
       "      <td>...</td>\n",
       "      <td>Botswana Pula(P)</td>\n",
       "      <td>0</td>\n",
       "      <td>0</td>\n",
       "      <td>0</td>\n",
       "      <td>0</td>\n",
       "      <td>4</td>\n",
       "      <td>4.7</td>\n",
       "      <td>3F7E00</td>\n",
       "      <td>Excellent</td>\n",
       "      <td>469</td>\n",
       "    </tr>\n",
       "    <tr>\n",
       "      <th>3</th>\n",
       "      <td>6301293</td>\n",
       "      <td>Banapple</td>\n",
       "      <td>162</td>\n",
       "      <td>Makati City</td>\n",
       "      <td>Ayala Triangle Gardens, Salcedo Village, Makat...</td>\n",
       "      <td>Ayala Triangle Gardens, Salcedo Village, Makat...</td>\n",
       "      <td>Ayala Triangle Gardens, Salcedo Village, Makat...</td>\n",
       "      <td>121.023171</td>\n",
       "      <td>14.556196</td>\n",
       "      <td>Filipino, American, Italian, Bakery</td>\n",
       "      <td>...</td>\n",
       "      <td>Botswana Pula(P)</td>\n",
       "      <td>0</td>\n",
       "      <td>0</td>\n",
       "      <td>0</td>\n",
       "      <td>0</td>\n",
       "      <td>3</td>\n",
       "      <td>4.4</td>\n",
       "      <td>5BA829</td>\n",
       "      <td>Very Good</td>\n",
       "      <td>867</td>\n",
       "    </tr>\n",
       "    <tr>\n",
       "      <th>4</th>\n",
       "      <td>6315689</td>\n",
       "      <td>Bad Bird</td>\n",
       "      <td>162</td>\n",
       "      <td>Makati City</td>\n",
       "      <td>Hole In The Wall, Floor 4, Century City Mall, ...</td>\n",
       "      <td>Century City Mall, Poblacion, Makati City</td>\n",
       "      <td>Century City Mall, Poblacion, Makati City, Mak...</td>\n",
       "      <td>121.027708</td>\n",
       "      <td>14.565899</td>\n",
       "      <td>American</td>\n",
       "      <td>...</td>\n",
       "      <td>Botswana Pula(P)</td>\n",
       "      <td>0</td>\n",
       "      <td>0</td>\n",
       "      <td>0</td>\n",
       "      <td>0</td>\n",
       "      <td>3</td>\n",
       "      <td>4.4</td>\n",
       "      <td>5BA829</td>\n",
       "      <td>Very Good</td>\n",
       "      <td>858</td>\n",
       "    </tr>\n",
       "  </tbody>\n",
       "</table>\n",
       "<p>5 rows × 21 columns</p>\n",
       "</div>"
      ],
      "text/plain": [
       "   Restaurant ID             Restaurant Name  Country Code            City  \\\n",
       "0        6310675  Mama Lou's Italian Kitchen           162  Las Piñas City   \n",
       "1        6310675  Mama Lou's Italian Kitchen           162  Las Piñas City   \n",
       "2        6314542                   Blackbird           162     Makati City   \n",
       "3        6301293                    Banapple           162     Makati City   \n",
       "4        6315689                    Bad Bird           162     Makati City   \n",
       "\n",
       "                                             Address  \\\n",
       "0  Block 1, Lot 36, Tropical Avenue Corner Tropic...   \n",
       "1  Block 1, Lot 36, Tropical Avenue Corner Tropic...   \n",
       "2  Nielson Tower, Ayala Triangle Gardens, Salcedo...   \n",
       "3  Ayala Triangle Gardens, Salcedo Village, Makat...   \n",
       "4  Hole In The Wall, Floor 4, Century City Mall, ...   \n",
       "\n",
       "                                            Locality  \\\n",
       "0                                   BF International   \n",
       "1                                   BF International   \n",
       "2  Ayala Triangle Gardens, Salcedo Village, Makat...   \n",
       "3  Ayala Triangle Gardens, Salcedo Village, Makat...   \n",
       "4          Century City Mall, Poblacion, Makati City   \n",
       "\n",
       "                                    Locality Verbose   Longitude   Latitude  \\\n",
       "0                   BF International, Las Piñas City  121.009787  14.447615   \n",
       "1                   BF International, Las Piñas City  121.009787  14.447615   \n",
       "2  Ayala Triangle Gardens, Salcedo Village, Makat...  121.024562  14.556042   \n",
       "3  Ayala Triangle Gardens, Salcedo Village, Makat...  121.023171  14.556196   \n",
       "4  Century City Mall, Poblacion, Makati City, Mak...  121.027708  14.565899   \n",
       "\n",
       "                              Cuisines  ...          Currency  \\\n",
       "0                              Italian  ...  Botswana Pula(P)   \n",
       "1                              Italian  ...  Botswana Pula(P)   \n",
       "2                      European, Asian  ...  Botswana Pula(P)   \n",
       "3  Filipino, American, Italian, Bakery  ...  Botswana Pula(P)   \n",
       "4                             American  ...  Botswana Pula(P)   \n",
       "\n",
       "  Has Table booking  Has Online delivery  Is delivering now  \\\n",
       "0                 1                    0                  0   \n",
       "1                 1                    0                  0   \n",
       "2                 0                    0                  0   \n",
       "3                 0                    0                  0   \n",
       "4                 0                    0                  0   \n",
       "\n",
       "   Switch to order menu  Price range  Aggregate rating  Rating color  \\\n",
       "0                     0            3               4.6        3F7E00   \n",
       "1                     0            3               4.6        3F7E00   \n",
       "2                     0            4               4.7        3F7E00   \n",
       "3                     0            3               4.4        5BA829   \n",
       "4                     0            3               4.4        5BA829   \n",
       "\n",
       "  Rating text Votes  \n",
       "0   Excellent   619  \n",
       "1   Excellent   619  \n",
       "2   Excellent   469  \n",
       "3   Very Good   867  \n",
       "4   Very Good   858  \n",
       "\n",
       "[5 rows x 21 columns]"
      ]
     },
     "execution_count": 340,
     "metadata": {},
     "output_type": "execute_result"
    }
   ],
   "source": [
    "df.head()"
   ]
  },
  {
   "cell_type": "code",
   "execution_count": 341,
   "id": "1cd1d04e",
   "metadata": {},
   "outputs": [
    {
     "data": {
      "text/plain": [
       "array(['Excellent', 'Very Good', 'Good', 'Excelente', 'Muito bom',\n",
       "       'Average', 'Not rated', 'Poor', 'Vynikajúce', 'Muito Bom',\n",
       "       'Bardzo dobrze', 'Muy Bueno', 'Bueno', 'Baik', 'Biasa',\n",
       "       'Skvělá volba', 'Velmi dobré', 'Harika', 'Çok iyi', 'Eccellente',\n",
       "       'Veľmi dobré', 'Buono', 'Bom', 'Skvělé', 'Wybitnie', 'Sangat Baik',\n",
       "       'Terbaik', 'İyi'], dtype=object)"
      ]
     },
     "execution_count": 341,
     "metadata": {},
     "output_type": "execute_result"
    }
   ],
   "source": [
    "df[\"Rating text\"].unique()"
   ]
  },
  {
   "cell_type": "code",
   "execution_count": 342,
   "id": "b13382c3-42c4-41b1-bdc7-ede3fe0f36fb",
   "metadata": {},
   "outputs": [
    {
     "data": {
      "text/plain": [
       "Restaurant ID            0\n",
       "Restaurant Name          0\n",
       "Country Code             0\n",
       "City                     0\n",
       "Address                  0\n",
       "Locality                 0\n",
       "Locality Verbose         0\n",
       "Longitude                0\n",
       "Latitude                 0\n",
       "Cuisines                15\n",
       "Average Cost for two     0\n",
       "Currency                 0\n",
       "Has Table booking        0\n",
       "Has Online delivery      0\n",
       "Is delivering now        0\n",
       "Switch to order menu     0\n",
       "Price range              0\n",
       "Aggregate rating         0\n",
       "Rating color             0\n",
       "Rating text              0\n",
       "Votes                    0\n",
       "dtype: int64"
      ]
     },
     "execution_count": 342,
     "metadata": {},
     "output_type": "execute_result"
    }
   ],
   "source": [
    "df.isnull().sum()"
   ]
  },
  {
   "cell_type": "code",
   "execution_count": 343,
   "id": "8f4fe00b-6d4a-4a3b-a63f-39de67ad2a92",
   "metadata": {},
   "outputs": [
    {
     "data": {
      "text/plain": [
       "(6929, 20)"
      ]
     },
     "execution_count": 343,
     "metadata": {},
     "output_type": "execute_result"
    }
   ],
   "source": [
    "df = df.drop_duplicates()\n",
    "df = df.dropna()\n",
    "df = df.drop(columns=[\"Switch to order menu\"])\n",
    "df = df.rename(columns={'Country Code': 'Country'})\n",
    "\n",
    "df.shape"
   ]
  },
  {
   "cell_type": "code",
   "execution_count": 344,
   "id": "b6ac4660-e37c-4811-9b1c-a8a0f6a7d062",
   "metadata": {},
   "outputs": [
    {
     "data": {
      "text/html": [
       "<div>\n",
       "<style scoped>\n",
       "    .dataframe tbody tr th:only-of-type {\n",
       "        vertical-align: middle;\n",
       "    }\n",
       "\n",
       "    .dataframe tbody tr th {\n",
       "        vertical-align: top;\n",
       "    }\n",
       "\n",
       "    .dataframe thead th {\n",
       "        text-align: right;\n",
       "    }\n",
       "</style>\n",
       "<table border=\"1\" class=\"dataframe\">\n",
       "  <thead>\n",
       "    <tr style=\"text-align: right;\">\n",
       "      <th></th>\n",
       "      <th>Restaurant ID</th>\n",
       "      <th>Restaurant Name</th>\n",
       "      <th>Country</th>\n",
       "      <th>City</th>\n",
       "      <th>Address</th>\n",
       "      <th>Locality</th>\n",
       "      <th>Locality Verbose</th>\n",
       "      <th>Longitude</th>\n",
       "      <th>Latitude</th>\n",
       "      <th>Cuisines</th>\n",
       "      <th>Average Cost for two</th>\n",
       "      <th>Currency</th>\n",
       "      <th>Has Table booking</th>\n",
       "      <th>Has Online delivery</th>\n",
       "      <th>Is delivering now</th>\n",
       "      <th>Price range</th>\n",
       "      <th>Aggregate rating</th>\n",
       "      <th>Rating color</th>\n",
       "      <th>Rating text</th>\n",
       "      <th>Votes</th>\n",
       "    </tr>\n",
       "  </thead>\n",
       "  <tbody>\n",
       "    <tr>\n",
       "      <th>0</th>\n",
       "      <td>6310675</td>\n",
       "      <td>Mama Lou's Italian Kitchen</td>\n",
       "      <td>162</td>\n",
       "      <td>Las Piñas City</td>\n",
       "      <td>Block 1, Lot 36, Tropical Avenue Corner Tropic...</td>\n",
       "      <td>BF International</td>\n",
       "      <td>BF International, Las Piñas City</td>\n",
       "      <td>121.009787</td>\n",
       "      <td>14.447615</td>\n",
       "      <td>Italian</td>\n",
       "      <td>1100</td>\n",
       "      <td>Botswana Pula(P)</td>\n",
       "      <td>1</td>\n",
       "      <td>0</td>\n",
       "      <td>0</td>\n",
       "      <td>3</td>\n",
       "      <td>4.6</td>\n",
       "      <td>3F7E00</td>\n",
       "      <td>Excellent</td>\n",
       "      <td>619</td>\n",
       "    </tr>\n",
       "  </tbody>\n",
       "</table>\n",
       "</div>"
      ],
      "text/plain": [
       "   Restaurant ID             Restaurant Name  Country            City  \\\n",
       "0        6310675  Mama Lou's Italian Kitchen      162  Las Piñas City   \n",
       "\n",
       "                                             Address          Locality  \\\n",
       "0  Block 1, Lot 36, Tropical Avenue Corner Tropic...  BF International   \n",
       "\n",
       "                   Locality Verbose   Longitude   Latitude Cuisines  \\\n",
       "0  BF International, Las Piñas City  121.009787  14.447615  Italian   \n",
       "\n",
       "   Average Cost for two          Currency  Has Table booking  \\\n",
       "0                  1100  Botswana Pula(P)                  1   \n",
       "\n",
       "   Has Online delivery  Is delivering now  Price range  Aggregate rating  \\\n",
       "0                    0                  0            3               4.6   \n",
       "\n",
       "  Rating color Rating text  Votes  \n",
       "0       3F7E00   Excellent    619  "
      ]
     },
     "execution_count": 344,
     "metadata": {},
     "output_type": "execute_result"
    }
   ],
   "source": [
    "df.head(1)"
   ]
  },
  {
   "cell_type": "code",
   "execution_count": 345,
   "id": "15c84a99",
   "metadata": {},
   "outputs": [],
   "source": [
    "media = df[df['Average Cost for two'] != 25000017]['Average Cost for two'].mean()\n",
    "df['Average Cost for two'] = df['Average Cost for two'].replace(25000017, media)"
   ]
  },
  {
   "cell_type": "code",
   "execution_count": 346,
   "id": "32f9ab4c",
   "metadata": {},
   "outputs": [],
   "source": [
    "countries = {\n",
    " 1: \"India\",\n",
    " 14: \"Australia\",\n",
    " 30: \"Brazil\",\n",
    " 37: \"Canada\",\n",
    " 94: \"Indonesia\",\n",
    " 148: \"New Zeland\",\n",
    " 162: \"Philippines\",\n",
    " 166: \"Qatar\",\n",
    " 184: \"Singapure\",\n",
    " 189: \"South Africa\",\n",
    " 191: \"Sri Lanka\",\n",
    " 208: \"Turkey\",\n",
    " 214: \"United Arab Emirates\",\n",
    " 215: \"England\",\n",
    " 216: \"United States of America\",\n",
    " }\n",
    "\n",
    "taxas_cambio = {\n",
    "    'Botswana Pula(P)': 0.075,  \n",
    "    'Brazilian Real(R$)': 0.20,    \n",
    "    'Dollar($)': 1.0,               \n",
    "    'Emirati Diram(AED)': 0.27,     \n",
    "    'Indian Rupees(Rs.)': 0.012,   \n",
    "    'Indonesian Rupiah(IDR)': 0.000065, \n",
    "    'NewZealand($)': 0.61,          \n",
    "    'Pounds(£)': 1.30,              \n",
    "    'Qatari Rial(QR)': 0.27,        \n",
    "    'Rand(R)': 0.052,               \n",
    "    'Sri Lankan Rupee(LKR)': 0.0031,\n",
    "    'Turkish Lira(TL)': 0.036       \n",
    "}\n",
    "rating_translation = {\n",
    "    'Excelente': 'Excellent',\n",
    "    'Muito bom': 'Very Good',\n",
    "    'Vynikajúce': 'Excellent',\n",
    "    'Muito Bom': 'Very Good',\n",
    "    'Bardzo dobrze': 'Very Good',\n",
    "    'Muy Bueno': 'Very Good',\n",
    "    'Bueno': 'Good',\n",
    "    'Baik': 'Good',\n",
    "    'Biasa': 'Average',\n",
    "    'Skvělá volba': 'Excellent',\n",
    "    'Velmi dobré': 'Very Good',\n",
    "    'Harika': 'Excellent',\n",
    "    'Çok iyi': 'Very Good',\n",
    "    'Eccellente': 'Excellent',\n",
    "    'Veľmi dobré': 'Very Good',\n",
    "    'Buono': 'Good',\n",
    "    'Bom': 'Good',\n",
    "    'Skvělé': 'Excellent',\n",
    "    'Wybitnie': 'Excellent',\n",
    "    'Sangat Baik': 'Very Good',\n",
    "    'Terbaik': 'Excellent',\n",
    "    'İyi': 'Good'\n",
    "}\n",
    "price_range = {\n",
    "    1: \"cheap\",\n",
    "    2: \"normal\",\n",
    "    3: \"expensive\",\n",
    "    4: \"gourmet\"\n",
    "}\n",
    "\n",
    "df['Rating text'] = df['Rating text'].replace(rating_translation)\n",
    "df[\"Country\"] = df[\"Country\"].replace(countries)\n",
    "df[\"Price range\"] = df[\"Price range\"].replace(price_range)\n",
    "\n",
    "def converter_para_usd(custo, moeda):\n",
    "    return custo * taxas_cambio.get(moeda, 1)\n",
    "\n",
    "df['Average Cost for two usd'] = df.apply(lambda x: converter_para_usd(x['Average Cost for two'], x['Currency']), axis=1)\n",
    "\n",
    "# Inverter os valores da coluna \"Has booking table\"\n",
    "df['Has Table booking'] = df['Has Table booking'].apply(lambda x: 1 if x == 0 else 0)\n",
    "df[\"Cuisines\"] = df.loc[:,\"Cuisines\"].apply(lambda x:x.split(\",\")[0])\n"
   ]
  },
  {
   "cell_type": "code",
   "execution_count": 347,
   "id": "bb575622",
   "metadata": {},
   "outputs": [
    {
     "data": {
      "text/html": [
       "<div>\n",
       "<style scoped>\n",
       "    .dataframe tbody tr th:only-of-type {\n",
       "        vertical-align: middle;\n",
       "    }\n",
       "\n",
       "    .dataframe tbody tr th {\n",
       "        vertical-align: top;\n",
       "    }\n",
       "\n",
       "    .dataframe thead th {\n",
       "        text-align: right;\n",
       "    }\n",
       "</style>\n",
       "<table border=\"1\" class=\"dataframe\">\n",
       "  <thead>\n",
       "    <tr style=\"text-align: right;\">\n",
       "      <th></th>\n",
       "      <th>Restaurant ID</th>\n",
       "      <th>Restaurant Name</th>\n",
       "      <th>Country</th>\n",
       "      <th>City</th>\n",
       "      <th>Address</th>\n",
       "      <th>Locality</th>\n",
       "      <th>Locality Verbose</th>\n",
       "      <th>Longitude</th>\n",
       "      <th>Latitude</th>\n",
       "      <th>Cuisines</th>\n",
       "      <th>...</th>\n",
       "      <th>Currency</th>\n",
       "      <th>Has Table booking</th>\n",
       "      <th>Has Online delivery</th>\n",
       "      <th>Is delivering now</th>\n",
       "      <th>Price range</th>\n",
       "      <th>Aggregate rating</th>\n",
       "      <th>Rating color</th>\n",
       "      <th>Rating text</th>\n",
       "      <th>Votes</th>\n",
       "      <th>Average Cost for two usd</th>\n",
       "    </tr>\n",
       "  </thead>\n",
       "  <tbody>\n",
       "    <tr>\n",
       "      <th>0</th>\n",
       "      <td>6310675</td>\n",
       "      <td>Mama Lou's Italian Kitchen</td>\n",
       "      <td>Philippines</td>\n",
       "      <td>Las Piñas City</td>\n",
       "      <td>Block 1, Lot 36, Tropical Avenue Corner Tropic...</td>\n",
       "      <td>BF International</td>\n",
       "      <td>BF International, Las Piñas City</td>\n",
       "      <td>121.009787</td>\n",
       "      <td>14.447615</td>\n",
       "      <td>Italian</td>\n",
       "      <td>...</td>\n",
       "      <td>Botswana Pula(P)</td>\n",
       "      <td>0</td>\n",
       "      <td>0</td>\n",
       "      <td>0</td>\n",
       "      <td>expensive</td>\n",
       "      <td>4.6</td>\n",
       "      <td>3F7E00</td>\n",
       "      <td>Excellent</td>\n",
       "      <td>619</td>\n",
       "      <td>82.5</td>\n",
       "    </tr>\n",
       "    <tr>\n",
       "      <th>2</th>\n",
       "      <td>6314542</td>\n",
       "      <td>Blackbird</td>\n",
       "      <td>Philippines</td>\n",
       "      <td>Makati City</td>\n",
       "      <td>Nielson Tower, Ayala Triangle Gardens, Salcedo...</td>\n",
       "      <td>Ayala Triangle Gardens, Salcedo Village, Makat...</td>\n",
       "      <td>Ayala Triangle Gardens, Salcedo Village, Makat...</td>\n",
       "      <td>121.024562</td>\n",
       "      <td>14.556042</td>\n",
       "      <td>European</td>\n",
       "      <td>...</td>\n",
       "      <td>Botswana Pula(P)</td>\n",
       "      <td>1</td>\n",
       "      <td>0</td>\n",
       "      <td>0</td>\n",
       "      <td>gourmet</td>\n",
       "      <td>4.7</td>\n",
       "      <td>3F7E00</td>\n",
       "      <td>Excellent</td>\n",
       "      <td>469</td>\n",
       "      <td>232.5</td>\n",
       "    </tr>\n",
       "    <tr>\n",
       "      <th>3</th>\n",
       "      <td>6301293</td>\n",
       "      <td>Banapple</td>\n",
       "      <td>Philippines</td>\n",
       "      <td>Makati City</td>\n",
       "      <td>Ayala Triangle Gardens, Salcedo Village, Makat...</td>\n",
       "      <td>Ayala Triangle Gardens, Salcedo Village, Makat...</td>\n",
       "      <td>Ayala Triangle Gardens, Salcedo Village, Makat...</td>\n",
       "      <td>121.023171</td>\n",
       "      <td>14.556196</td>\n",
       "      <td>Filipino</td>\n",
       "      <td>...</td>\n",
       "      <td>Botswana Pula(P)</td>\n",
       "      <td>1</td>\n",
       "      <td>0</td>\n",
       "      <td>0</td>\n",
       "      <td>expensive</td>\n",
       "      <td>4.4</td>\n",
       "      <td>5BA829</td>\n",
       "      <td>Very Good</td>\n",
       "      <td>867</td>\n",
       "      <td>60.0</td>\n",
       "    </tr>\n",
       "    <tr>\n",
       "      <th>4</th>\n",
       "      <td>6315689</td>\n",
       "      <td>Bad Bird</td>\n",
       "      <td>Philippines</td>\n",
       "      <td>Makati City</td>\n",
       "      <td>Hole In The Wall, Floor 4, Century City Mall, ...</td>\n",
       "      <td>Century City Mall, Poblacion, Makati City</td>\n",
       "      <td>Century City Mall, Poblacion, Makati City, Mak...</td>\n",
       "      <td>121.027708</td>\n",
       "      <td>14.565899</td>\n",
       "      <td>American</td>\n",
       "      <td>...</td>\n",
       "      <td>Botswana Pula(P)</td>\n",
       "      <td>1</td>\n",
       "      <td>0</td>\n",
       "      <td>0</td>\n",
       "      <td>expensive</td>\n",
       "      <td>4.4</td>\n",
       "      <td>5BA829</td>\n",
       "      <td>Very Good</td>\n",
       "      <td>858</td>\n",
       "      <td>52.5</td>\n",
       "    </tr>\n",
       "    <tr>\n",
       "      <th>5</th>\n",
       "      <td>6304833</td>\n",
       "      <td>Manam</td>\n",
       "      <td>Philippines</td>\n",
       "      <td>Makati City</td>\n",
       "      <td>Level 1, Greenbelt 2, Ayala Center, Greenbelt,...</td>\n",
       "      <td>Greenbelt 2, San Lorenzo, Makati City</td>\n",
       "      <td>Greenbelt 2, San Lorenzo, Makati City, Makati ...</td>\n",
       "      <td>121.020380</td>\n",
       "      <td>14.552351</td>\n",
       "      <td>Filipino</td>\n",
       "      <td>...</td>\n",
       "      <td>Botswana Pula(P)</td>\n",
       "      <td>1</td>\n",
       "      <td>0</td>\n",
       "      <td>0</td>\n",
       "      <td>expensive</td>\n",
       "      <td>4.7</td>\n",
       "      <td>3F7E00</td>\n",
       "      <td>Excellent</td>\n",
       "      <td>930</td>\n",
       "      <td>52.5</td>\n",
       "    </tr>\n",
       "  </tbody>\n",
       "</table>\n",
       "<p>5 rows × 21 columns</p>\n",
       "</div>"
      ],
      "text/plain": [
       "   Restaurant ID             Restaurant Name      Country            City  \\\n",
       "0        6310675  Mama Lou's Italian Kitchen  Philippines  Las Piñas City   \n",
       "2        6314542                   Blackbird  Philippines     Makati City   \n",
       "3        6301293                    Banapple  Philippines     Makati City   \n",
       "4        6315689                    Bad Bird  Philippines     Makati City   \n",
       "5        6304833                       Manam  Philippines     Makati City   \n",
       "\n",
       "                                             Address  \\\n",
       "0  Block 1, Lot 36, Tropical Avenue Corner Tropic...   \n",
       "2  Nielson Tower, Ayala Triangle Gardens, Salcedo...   \n",
       "3  Ayala Triangle Gardens, Salcedo Village, Makat...   \n",
       "4  Hole In The Wall, Floor 4, Century City Mall, ...   \n",
       "5  Level 1, Greenbelt 2, Ayala Center, Greenbelt,...   \n",
       "\n",
       "                                            Locality  \\\n",
       "0                                   BF International   \n",
       "2  Ayala Triangle Gardens, Salcedo Village, Makat...   \n",
       "3  Ayala Triangle Gardens, Salcedo Village, Makat...   \n",
       "4          Century City Mall, Poblacion, Makati City   \n",
       "5              Greenbelt 2, San Lorenzo, Makati City   \n",
       "\n",
       "                                    Locality Verbose   Longitude   Latitude  \\\n",
       "0                   BF International, Las Piñas City  121.009787  14.447615   \n",
       "2  Ayala Triangle Gardens, Salcedo Village, Makat...  121.024562  14.556042   \n",
       "3  Ayala Triangle Gardens, Salcedo Village, Makat...  121.023171  14.556196   \n",
       "4  Century City Mall, Poblacion, Makati City, Mak...  121.027708  14.565899   \n",
       "5  Greenbelt 2, San Lorenzo, Makati City, Makati ...  121.020380  14.552351   \n",
       "\n",
       "   Cuisines  ...          Currency Has Table booking  Has Online delivery  \\\n",
       "0   Italian  ...  Botswana Pula(P)                 0                    0   \n",
       "2  European  ...  Botswana Pula(P)                 1                    0   \n",
       "3  Filipino  ...  Botswana Pula(P)                 1                    0   \n",
       "4  American  ...  Botswana Pula(P)                 1                    0   \n",
       "5  Filipino  ...  Botswana Pula(P)                 1                    0   \n",
       "\n",
       "   Is delivering now  Price range Aggregate rating  Rating color Rating text  \\\n",
       "0                  0    expensive              4.6        3F7E00   Excellent   \n",
       "2                  0      gourmet              4.7        3F7E00   Excellent   \n",
       "3                  0    expensive              4.4        5BA829   Very Good   \n",
       "4                  0    expensive              4.4        5BA829   Very Good   \n",
       "5                  0    expensive              4.7        3F7E00   Excellent   \n",
       "\n",
       "  Votes  Average Cost for two usd  \n",
       "0   619                      82.5  \n",
       "2   469                     232.5  \n",
       "3   867                      60.0  \n",
       "4   858                      52.5  \n",
       "5   930                      52.5  \n",
       "\n",
       "[5 rows x 21 columns]"
      ]
     },
     "execution_count": 347,
     "metadata": {},
     "output_type": "execute_result"
    }
   ],
   "source": [
    "df.head()"
   ]
  },
  {
   "cell_type": "markdown",
   "id": "89287e98",
   "metadata": {},
   "source": [
    "<h2>Respondendo as perguntas<h2>"
   ]
  },
  {
   "cell_type": "markdown",
   "id": "8b934514",
   "metadata": {},
   "source": [
    "<h3>Geral<h3>"
   ]
  },
  {
   "cell_type": "code",
   "execution_count": 348,
   "id": "fdecd9a4",
   "metadata": {},
   "outputs": [
    {
     "name": "stdout",
     "output_type": "stream",
     "text": [
      "Quantidade de restaurantes únicos: 5901\n"
     ]
    }
   ],
   "source": [
    "# Número de restaurantes únicos\n",
    "num_restaurantes = df['Restaurant Name'].nunique()\n",
    "print(f\"Quantidade de restaurantes únicos: {num_restaurantes}\")\n"
   ]
  },
  {
   "cell_type": "code",
   "execution_count": 349,
   "id": "1bf7514c",
   "metadata": {},
   "outputs": [
    {
     "name": "stdout",
     "output_type": "stream",
     "text": [
      "Quantidade de países únicos: 15\n"
     ]
    }
   ],
   "source": [
    "# Número de países únicos\n",
    "num_paises = df['Country'].nunique()\n",
    "print(f\"Quantidade de países únicos: {num_paises}\")\n"
   ]
  },
  {
   "cell_type": "code",
   "execution_count": 350,
   "id": "88aa3d3d",
   "metadata": {},
   "outputs": [
    {
     "name": "stdout",
     "output_type": "stream",
     "text": [
      "Quantidade de cidades únicas: 125\n"
     ]
    }
   ],
   "source": [
    "# Número de cidades únicas\n",
    "num_cidades = df['City'].nunique()\n",
    "print(f\"Quantidade de cidades únicas: {num_cidades}\")\n"
   ]
  },
  {
   "cell_type": "code",
   "execution_count": 351,
   "id": "27aebc08",
   "metadata": {},
   "outputs": [
    {
     "name": "stdout",
     "output_type": "stream",
     "text": [
      "Total de avaliações feitas: 4194533\n"
     ]
    }
   ],
   "source": [
    "# Total de avaliações feitas\n",
    "total_avaliacoes = df['Votes'].sum()\n",
    "print(f\"Total de avaliações feitas: {total_avaliacoes}\")\n"
   ]
  },
  {
   "cell_type": "code",
   "execution_count": 352,
   "id": "1521946b",
   "metadata": {},
   "outputs": [
    {
     "name": "stdout",
     "output_type": "stream",
     "text": [
      "Quantidade de tipos de culinária únicos: 165\n"
     ]
    }
   ],
   "source": [
    "# Número de tipos de culinária únicos\n",
    "num_culinarias = df['Cuisines'].nunique()\n",
    "print(f\"Quantidade de tipos de culinária únicos: {num_culinarias}\")\n"
   ]
  },
  {
   "cell_type": "markdown",
   "id": "93207fee",
   "metadata": {},
   "source": [
    "<h3>País<h3>"
   ]
  },
  {
   "cell_type": "code",
   "execution_count": 353,
   "id": "4fe0ebf9",
   "metadata": {},
   "outputs": [
    {
     "name": "stdout",
     "output_type": "stream",
     "text": [
      "O país com mais cidades registradas é India, com 49 cidades registradas.\n"
     ]
    }
   ],
   "source": [
    "# País com mais cidades registradas\n",
    "pais_mais_cidades = df.groupby('Country')['City'].nunique().idxmax()\n",
    "num_cidades_pais = df.groupby('Country')['City'].nunique().max()\n",
    "print(f\"O país com mais cidades registradas é {pais_mais_cidades}, com {num_cidades_pais} cidades registradas.\")\n"
   ]
  },
  {
   "cell_type": "code",
   "execution_count": 354,
   "id": "017096b0",
   "metadata": {},
   "outputs": [
    {
     "name": "stdout",
     "output_type": "stream",
     "text": [
      "O país com mais restaurantes registrados é India, com 2480 restaurantes registrados.\n"
     ]
    }
   ],
   "source": [
    "# País com mais restaurantes registrados\n",
    "pais_mais_restaurantes = df.groupby('Country')['Restaurant Name'].nunique().idxmax()\n",
    "num_restaurantes_pais = df.groupby('Country')['Restaurant Name'].nunique().max()\n",
    "print(f\"O país com mais restaurantes registrados é {pais_mais_restaurantes}, com {num_restaurantes_pais} restaurantes registrados.\")\n"
   ]
  },
  {
   "cell_type": "code",
   "execution_count": 355,
   "id": "32cbec0d",
   "metadata": {},
   "outputs": [
    {
     "name": "stdout",
     "output_type": "stream",
     "text": [
      "O país com mais restaurantes com o nível de preço igual a 4 é United States of America, com 415 restaurantes registrados.\n"
     ]
    }
   ],
   "source": [
    "# País com mais restaurantes com o nível de preço igual a 4 (Gourmet)\n",
    "df_gourmet = df[df['Price range'] == 'gourmet']\n",
    "pais_mais_gourmet = df_gourmet['Country'].value_counts().idxmax()\n",
    "num_gourmet = df_gourmet['Country'].value_counts().max()\n",
    "print(f\"O país com mais restaurantes com o nível de preço igual a 4 é {pais_mais_gourmet}, com {num_gourmet} restaurantes registrados.\")\n"
   ]
  },
  {
   "cell_type": "code",
   "execution_count": 356,
   "id": "24922a2d",
   "metadata": {},
   "outputs": [
    {
     "name": "stdout",
     "output_type": "stream",
     "text": [
      "O país com a maior quantidade de tipos de culinária distintos é India, com 77 tipos distintos.\n"
     ]
    }
   ],
   "source": [
    "# País com a maior quantidade de tipos de culinária distintos\n",
    "pais_mais_culinarias = df.groupby('Country')['Cuisines'].nunique().idxmax()\n",
    "num_culinarias_pais = df.groupby('Country')['Cuisines'].nunique().max()\n",
    "print(f\"O país com a maior quantidade de tipos de culinária distintos é {pais_mais_culinarias}, com {num_culinarias_pais} tipos distintos.\")\n"
   ]
  },
  {
   "cell_type": "code",
   "execution_count": 357,
   "id": "b75d703b",
   "metadata": {},
   "outputs": [
    {
     "name": "stdout",
     "output_type": "stream",
     "text": [
      "O país com a maior quantidade de avaliações feitas é India, com 2800164 avaliações registradas.\n"
     ]
    }
   ],
   "source": [
    "# País com a maior quantidade de avaliações feitas\n",
    "pais_mais_avaliacoes = df.groupby('Country')['Votes'].sum().idxmax()\n",
    "num_avaliacoes = df.groupby('Country')['Votes'].sum().max()\n",
    "print(f\"O país com a maior quantidade de avaliações feitas é {pais_mais_avaliacoes}, com {num_avaliacoes} avaliações registradas.\")\n"
   ]
  },
  {
   "cell_type": "code",
   "execution_count": 358,
   "id": "88bd00e9",
   "metadata": {},
   "outputs": [
    {
     "name": "stdout",
     "output_type": "stream",
     "text": [
      "O país com a maior quantidade de restaurantes que fazem entrega é India, com 2177 restaurantes que fazem entrega.\n"
     ]
    }
   ],
   "source": [
    "# País com a maior quantidade de restaurantes que fazem entrega\n",
    "pais_mais_restaurantes_entrega = df[df['Has Online delivery'] == 1]['Country'].value_counts().idxmax()\n",
    "num_entregas = df[df['Has Online delivery'] == 1]['Country'].value_counts().max()\n",
    "print(f\"O país com a maior quantidade de restaurantes que fazem entrega é {pais_mais_restaurantes_entrega}, com {num_entregas} restaurantes que fazem entrega.\")\n"
   ]
  },
  {
   "cell_type": "code",
   "execution_count": 359,
   "id": "7a7fb1f1",
   "metadata": {},
   "outputs": [
    {
     "name": "stdout",
     "output_type": "stream",
     "text": [
      "O país com a maior quantidade de restaurantes que aceitam reservas é India, com 2855 restaurantes que aceitam reservas.\n"
     ]
    }
   ],
   "source": [
    "# País com a maior quantidade de restaurantes que aceitam reservas\n",
    "pais_mais_reservas = df[df['Has Table booking'] == 1]['Country'].value_counts().idxmax()\n",
    "num_reservas = df[df['Has Table booking'] == 1]['Country'].value_counts().max()\n",
    "print(f\"O país com a maior quantidade de restaurantes que aceitam reservas é {pais_mais_reservas}, com {num_reservas} restaurantes que aceitam reservas.\")\n"
   ]
  },
  {
   "cell_type": "code",
   "execution_count": 360,
   "id": "363bab5c",
   "metadata": {},
   "outputs": [
    {
     "name": "stdout",
     "output_type": "stream",
     "text": [
      "O país com a maior quantidade média de avaliações registrada é Indonesia, com uma média de 1112.83 avaliações.\n"
     ]
    }
   ],
   "source": [
    "# País com a média de avaliações mais alta\n",
    "pais_media_avaliacoes = df.groupby('Country')['Votes'].mean().idxmax()\n",
    "media_avaliacoes = df.groupby('Country')['Votes'].mean().max()\n",
    "print(f\"O país com a maior quantidade média de avaliações registrada é {pais_media_avaliacoes}, com uma média de {media_avaliacoes:.2f} avaliações.\")\n"
   ]
  },
  {
   "cell_type": "code",
   "execution_count": 361,
   "id": "fc708030",
   "metadata": {},
   "outputs": [
    {
     "name": "stdout",
     "output_type": "stream",
     "text": [
      "O país com a maior nota média registrada é Indonesia, com uma média de 4.60.\n"
     ]
    }
   ],
   "source": [
    "# País com a média de nota mais alta\n",
    "pais_nota_alta = df.groupby('Country')['Aggregate rating'].mean().idxmax()\n",
    "media_nota_alta = df.groupby('Country')['Aggregate rating'].mean().max()\n",
    "print(f\"O país com a maior nota média registrada é {pais_nota_alta}, com uma média de {media_nota_alta:.2f}.\")\n"
   ]
  },
  {
   "cell_type": "code",
   "execution_count": 362,
   "id": "b21541bf",
   "metadata": {},
   "outputs": [
    {
     "name": "stdout",
     "output_type": "stream",
     "text": [
      "O país com a menor nota média registrada é Brazil, com uma média de 3.32.\n"
     ]
    }
   ],
   "source": [
    "# País com a média de nota mais baixa\n",
    "pais_nota_baixa = df.groupby('Country')['Aggregate rating'].mean().idxmin()\n",
    "media_nota_baixa = df.groupby('Country')['Aggregate rating'].mean().min()\n",
    "print(f\"O país com a menor nota média registrada é {pais_nota_baixa}, com uma média de {media_nota_baixa:.2f}.\")\n"
   ]
  },
  {
   "cell_type": "code",
   "execution_count": 363,
   "id": "2a4e27f6",
   "metadata": {},
   "outputs": [
    {
     "name": "stdout",
     "output_type": "stream",
     "text": [
      "A média de preço de um prato para dois no Australia é 92.54 dolares.\n",
      "A média de preço de um prato para dois no Brazil é 27.76 dolares.\n",
      "A média de preço de um prato para dois no Canada é 41.86 dolares.\n",
      "A média de preço de um prato para dois no England é 56.56 dolares.\n",
      "A média de preço de um prato para dois no India é 8.45 dolares.\n",
      "A média de preço de um prato para dois no Indonesia é 19.70 dolares.\n",
      "A média de preço de um prato para dois no New Zeland é 37.91 dolares.\n",
      "A média de preço de um prato para dois no Philippines é 92.09 dolares.\n",
      "A média de preço de um prato para dois no Qatar é 46.98 dolares.\n",
      "A média de preço de um prato para dois no Singapure é 141.44 dolares.\n",
      "A média de preço de um prato para dois no South Africa é 17.64 dolares.\n",
      "A média de preço de um prato para dois no Sri Lanka é 8.00 dolares.\n",
      "A média de preço de um prato para dois no Turkey é 4.63 dolares.\n",
      "A média de preço de um prato para dois no United Arab Emirates é 41.50 dolares.\n",
      "A média de preço de um prato para dois no United States of America é 55.03 dolares.\n"
     ]
    }
   ],
   "source": [
    "# Média de preço de um prato para dois por país\n",
    "media_preco_por_pais = df.groupby('Country')['Average Cost for two usd'].mean()\n",
    "for pais, preco in media_preco_por_pais.items():\n",
    "    print(f\"A média de preço de um prato para dois no {pais} é {preco:.2f} dolares.\")\n"
   ]
  },
  {
   "cell_type": "markdown",
   "id": "8c252c78",
   "metadata": {},
   "source": [
    "<h3>Cidade<h3>"
   ]
  },
  {
   "cell_type": "code",
   "execution_count": 364,
   "id": "ea73ff46",
   "metadata": {},
   "outputs": [
    {
     "name": "stdout",
     "output_type": "stream",
     "text": [
      "A cidade com mais restaurantes registrados é Coimbatore, com 80 restaurantes registrados.\n"
     ]
    }
   ],
   "source": [
    "# Cidade com mais restaurantes registrados\n",
    "cidade_mais_restaurantes = df['City'].value_counts().idxmax()\n",
    "num_restaurantes_cidade = df['City'].value_counts().max()\n",
    "print(f\"A cidade com mais restaurantes registrados é {cidade_mais_restaurantes}, com {num_restaurantes_cidade} restaurantes registrados.\")\n"
   ]
  },
  {
   "cell_type": "code",
   "execution_count": 365,
   "id": "2eb642a4",
   "metadata": {},
   "outputs": [
    {
     "name": "stdout",
     "output_type": "stream",
     "text": [
      "A cidade com mais restaurantes com nota média acima de 4 é Bangalore, com 79 restaurantes.\n"
     ]
    }
   ],
   "source": [
    "# Filtrar restaurantes com nota média acima de 4\n",
    "restaurantes_mais_4 = df[df['Aggregate rating'] > 4]\n",
    "\n",
    "# Cidade com mais restaurantes com nota média acima de 4\n",
    "cidade_mais_4 = restaurantes_mais_4['City'].value_counts().idxmax()\n",
    "num_mais_4 = restaurantes_mais_4['City'].value_counts().max()\n",
    "print(f\"A cidade com mais restaurantes com nota média acima de 4 é {cidade_mais_4}, com {num_mais_4} restaurantes.\")"
   ]
  },
  {
   "cell_type": "code",
   "execution_count": 366,
   "id": "994fba23",
   "metadata": {},
   "outputs": [
    {
     "name": "stdout",
     "output_type": "stream",
     "text": [
      "A cidade com mais restaurantes com nota média abaixo de 2.5 é Gangtok, com 33 restaurantes.\n"
     ]
    }
   ],
   "source": [
    "# Filtrar restaurantes com nota média abaixo de 2.5\n",
    "restaurantes_menos_2_5 = df[df['Aggregate rating'] < 2.5]\n",
    "\n",
    "# Cidade com mais restaurantes com nota média abaixo de 2.5\n",
    "cidade_menos_2_5 = restaurantes_menos_2_5['City'].value_counts().idxmax()\n",
    "num_menos_2_5 = restaurantes_menos_2_5['City'].value_counts().max()\n",
    "print(f\"A cidade com mais restaurantes com nota média abaixo de 2.5 é {cidade_menos_2_5}, com {num_menos_2_5} restaurantes.\")\n"
   ]
  },
  {
   "cell_type": "code",
   "execution_count": 367,
   "id": "7f99469c",
   "metadata": {},
   "outputs": [
    {
     "name": "stdout",
     "output_type": "stream",
     "text": [
      "A cidade com o maior valor médio de um prato para dois é Pasay City, com uma média de 300.00 dolares.\n"
     ]
    }
   ],
   "source": [
    "# Cidade com o maior valor médio de um prato para dois\n",
    "cidade_mais_preco = df.groupby('City')['Average Cost for two usd'].mean().idxmax()\n",
    "maior_preco = df.groupby('City')['Average Cost for two usd'].mean().max()\n",
    "print(f\"A cidade com o maior valor médio de um prato para dois é {cidade_mais_preco}, com uma média de {maior_preco:.2f} dolares.\")\n"
   ]
  },
  {
   "cell_type": "code",
   "execution_count": 391,
   "id": "6e8903ea",
   "metadata": {},
   "outputs": [
    {
     "name": "stdout",
     "output_type": "stream",
     "text": [
      "A cidade com a maior quantidade de tipos de culinária distintos é Birmingham, com 32 tipos distintos de culinária.\n"
     ]
    }
   ],
   "source": [
    "# Cidade com a maior quantidade de tipos de culinária distintos\n",
    "cidade_mais_culinarias = df.groupby('City')['Cuisines'].nunique().idxmax()\n",
    "max_culinarias = df.groupby('City')['Cuisines'].nunique().max()\n",
    "print(f\"A cidade com a maior quantidade de tipos de culinária distintos é {cidade_mais_culinarias}, com {max_culinarias} tipos distintos de culinária.\")\n"
   ]
  },
  {
   "cell_type": "code",
   "execution_count": 369,
   "id": "56212df1",
   "metadata": {},
   "outputs": [
    {
     "name": "stdout",
     "output_type": "stream",
     "text": [
      "A cidade com a maior quantidade de restaurantes que fazem reservas é Sharjah, com 80 restaurantes que fazem reservas.\n"
     ]
    }
   ],
   "source": [
    "# Cidade com a maior quantidade de restaurantes que fazem reservas\n",
    "cidade_mais_reservas = df[df['Has Table booking'] == 1]['City'].value_counts().idxmax()\n",
    "max_reservas = df[df['Has Table booking'] == 1]['City'].value_counts().max()\n",
    "print(f\"A cidade com a maior quantidade de restaurantes que fazem reservas é {cidade_mais_reservas}, com {max_reservas} restaurantes que fazem reservas.\")\n"
   ]
  },
  {
   "cell_type": "code",
   "execution_count": 370,
   "id": "38c9044e",
   "metadata": {},
   "outputs": [
    {
     "name": "stdout",
     "output_type": "stream",
     "text": [
      "A cidade com a maior quantidade de restaurantes que fazem entregas é Vadodara, com 48 restaurantes que fazem entregas.\n"
     ]
    }
   ],
   "source": [
    "# Cidade com a maior quantidade de restaurantes que fazem entregas\n",
    "cidade_mais_entregas = df[df['Is delivering now'] == 1]['City'].value_counts().idxmax()\n",
    "max_entregas = df[df['Is delivering now'] == 1]['City'].value_counts().max()\n",
    "print(f\"A cidade com a maior quantidade de restaurantes que fazem entregas é {cidade_mais_entregas}, com {max_entregas} restaurantes que fazem entregas.\")\n"
   ]
  },
  {
   "cell_type": "code",
   "execution_count": 371,
   "id": "fd9c5f67",
   "metadata": {},
   "outputs": [
    {
     "name": "stdout",
     "output_type": "stream",
     "text": [
      "A cidade com a maior quantidade de restaurantes que aceitam pedidos online é Bhopal, com 75 restaurantes.\n"
     ]
    }
   ],
   "source": [
    "# Cidade com a maior quantidade de restaurantes que aceitam pedidos online\n",
    "cidade_mais_entregas_online = df[df['Has Online delivery'] == 1]['City'].value_counts().idxmax()\n",
    "max_entregas_online = df[df['Has Online delivery'] == 1]['City'].value_counts().max()\n",
    "print(f\"A cidade com a maior quantidade de restaurantes que aceitam pedidos online é {cidade_mais_entregas_online}, com {max_entregas_online} restaurantes.\")\n"
   ]
  },
  {
   "cell_type": "markdown",
   "id": "501f9081",
   "metadata": {},
   "source": [
    "<h3>Restaurantes<h3>"
   ]
  },
  {
   "cell_type": "code",
   "execution_count": 372,
   "id": "ee2ad867",
   "metadata": {},
   "outputs": [
    {
     "name": "stdout",
     "output_type": "stream",
     "text": [
      "O restaurante com a maior quantidade de avaliações é Domino's Pizza, com 59749 avaliações.\n"
     ]
    }
   ],
   "source": [
    "# Restaurante com a maior quantidade de avaliações\n",
    "restaurante_mais_avalicoes = df.groupby('Restaurant Name')['Votes'].sum().idxmax()\n",
    "max_avaliacoes = df.groupby('Restaurant Name')['Votes'].sum().max()\n",
    "print(f\"O restaurante com a maior quantidade de avaliações é {restaurante_mais_avalicoes}, com {max_avaliacoes} avaliações.\")\n"
   ]
  },
  {
   "cell_type": "code",
   "execution_count": 373,
   "id": "7eeb244b",
   "metadata": {},
   "outputs": [
    {
     "name": "stdout",
     "output_type": "stream",
     "text": [
      "O restaurante com a maior nota média é 5 Napkin Burger, com uma nota média de 4.90.\n"
     ]
    }
   ],
   "source": [
    "# Restaurante com a maior nota média\n",
    "restaurante_maior_nota = df.groupby('Restaurant Name')['Aggregate rating'].mean().idxmax()\n",
    "max_nota = df.groupby('Restaurant Name')['Aggregate rating'].mean().max()\n",
    "print(f\"O restaurante com a maior nota média é {restaurante_maior_nota}, com uma nota média de {max_nota:.2f}.\")\n"
   ]
  },
  {
   "cell_type": "code",
   "execution_count": 374,
   "id": "9ef39d8f",
   "metadata": {},
   "outputs": [
    {
     "name": "stdout",
     "output_type": "stream",
     "text": [
      "O restaurante com o maior valor de um prato para duas pessoas é The Café - Hotel Mulia, com um valor médio de 1200000.00 unidades monetárias.\n"
     ]
    }
   ],
   "source": [
    "# Restaurante com o maior valor de um prato para duas pessoas\n",
    "restaurante_maior_preco = df.groupby('Restaurant Name')['Average Cost for two'].mean().idxmax()\n",
    "max_custo = df.groupby('Restaurant Name')['Average Cost for two'].mean().max()\n",
    "print(f\"O restaurante com o maior valor de um prato para duas pessoas é {restaurante_maior_preco}, com um valor médio de {max_custo:.2f} unidades monetárias.\")\n"
   ]
  },
  {
   "cell_type": "code",
   "execution_count": 392,
   "id": "7084836a",
   "metadata": {},
   "outputs": [
    {
     "name": "stdout",
     "output_type": "stream",
     "text": [
      "O restaurante de culinária brasileira com a menor média de avaliação é Bar do Luiz Fernandes, com uma nota média de 0.00.\n"
     ]
    }
   ],
   "source": [
    "# Filtrar restaurantes de culinária brasileira\n",
    "restaurantes_brasileiros = df[(df['Cuisines'].str.contains('Brazilian', case=False))]\n",
    "\n",
    "# Restaurante brasileiro com a menor média de avaliação\n",
    "restaurante_menor_nota = restaurantes_brasileiros.groupby('Restaurant Name')['Aggregate rating'].mean().idxmin()\n",
    "menor_nota_brasileiro = restaurantes_brasileiros.groupby('Restaurant Name')['Aggregate rating'].mean().min()\n",
    "print(f\"O restaurante de culinária brasileira com a menor média de avaliação é {restaurante_menor_nota}, com uma nota média de {menor_nota_brasileiro:.2f}.\")\n"
   ]
  },
  {
   "cell_type": "code",
   "execution_count": 393,
   "id": "a1ae194d",
   "metadata": {},
   "outputs": [
    {
     "name": "stdout",
     "output_type": "stream",
     "text": [
      "O restaurante de culinária brasileira no Brasil com a maior média de avaliação é Aprazível, com uma nota média de 4.90.\n"
     ]
    }
   ],
   "source": [
    "# Filtrar restaurantes de culinária brasileira no Brasil\n",
    "restaurantes_brasileiros_brasil = df[(df['Cuisines'].str.contains('Brazilian', case=False)) & (df['Country'] == 'Brazil')]\n",
    "\n",
    "# Restaurante brasileiro no Brasil com a maior média de avaliação\n",
    "restaurante_brasileiro_maior_nota = restaurantes_brasileiros_brasil.groupby('Restaurant Name')['Aggregate rating'].mean().idxmax()\n",
    "maior_nota_brasil = restaurantes_brasileiros_brasil.groupby('Restaurant Name')['Aggregate rating'].mean().max()\n",
    "print(f\"O restaurante de culinária brasileira no Brasil com a maior média de avaliação é {restaurante_brasileiro_maior_nota}, com uma nota média de {maior_nota_brasil:.2f}.\")\n"
   ]
  },
  {
   "cell_type": "code",
   "execution_count": 394,
   "id": "2a32321b",
   "metadata": {},
   "outputs": [
    {
     "name": "stdout",
     "output_type": "stream",
     "text": [
      "Média de avaliações para restaurantes que aceitam pedidos online: 838.82\n",
      "Média de avaliações para restaurantes que não aceitam pedidos online: 479.42\n",
      "Os restaurantes que aceitam pedidos online, na média, possuem mais avaliações registradas.\n"
     ]
    }
   ],
   "source": [
    "# Média de avaliações para restaurantes que aceitam pedidos online e os que não aceitam\n",
    "avaliacoes_com_entrega = df[df['Has Online delivery'] == 1]['Votes'].mean()\n",
    "avaliacoes_sem_entrega = df[df['Has Online delivery'] == 0]['Votes'].mean()\n",
    "\n",
    "print(f\"Média de avaliações para restaurantes que aceitam pedidos online: {avaliacoes_com_entrega:.2f}\")\n",
    "print(f\"Média de avaliações para restaurantes que não aceitam pedidos online: {avaliacoes_sem_entrega:.2f}\")\n",
    "\n",
    "if avaliacoes_com_entrega > avaliacoes_sem_entrega:\n",
    "    print(\"Os restaurantes que aceitam pedidos online, na média, possuem mais avaliações registradas.\")\n",
    "else:\n",
    "    print(\"Os restaurantes que não aceitam pedidos online, na média, possuem mais avaliações registradas.\")\n"
   ]
  },
  {
   "cell_type": "code",
   "execution_count": 395,
   "id": "99745fdb",
   "metadata": {},
   "outputs": [
    {
     "name": "stdout",
     "output_type": "stream",
     "text": [
      "Média de valor de um prato para duas pessoas para restaurantes que fazem reservas: 3488.60\n",
      "Média de valor de um prato para duas pessoas para restaurantes que não fazem reservas: 10483.89\n",
      "Os restaurantes que não fazem reservas, na média, possuem um maior valor de um prato para duas pessoas.\n"
     ]
    }
   ],
   "source": [
    "# Média de valor de um prato para duas pessoas para restaurantes que fazem reservas e os que não fazem\n",
    "custo_com_reserva = df[df['Has Table booking'] == 1]['Average Cost for two'].mean()\n",
    "custo_sem_reserva = df[df['Has Table booking'] == 0]['Average Cost for two'].mean()\n",
    "\n",
    "print(f\"Média de valor de um prato para duas pessoas para restaurantes que fazem reservas: {custo_com_reserva:.2f}\")\n",
    "print(f\"Média de valor de um prato para duas pessoas para restaurantes que não fazem reservas: {custo_sem_reserva:.2f}\")\n",
    "\n",
    "if custo_com_reserva > custo_sem_reserva:\n",
    "    print(\"Os restaurantes que fazem reservas, na média, possuem um maior valor de um prato para duas pessoas.\")\n",
    "else:\n",
    "    print(\"Os restaurantes que não fazem reservas, na média, possuem um maior valor de um prato para duas pessoas.\")\n"
   ]
  },
  {
   "cell_type": "code",
   "execution_count": 396,
   "id": "ff230361",
   "metadata": {},
   "outputs": [
    {
     "name": "stdout",
     "output_type": "stream",
     "text": [
      "Média de valor de um prato para duas pessoas em restaurantes japoneses nos EUA: 56.41\n",
      "Média de valor de um prato para duas pessoas em churrascarias americanas (BBQ) nos EUA: 39.64\n",
      "Os restaurantes de culinária japonesa nos EUA possuem um valor médio de prato para duas pessoas maior que as churrascarias americanas (BBQ).\n"
     ]
    }
   ],
   "source": [
    "# Filtrar restaurantes japoneses e churrascarias americanas\n",
    "restaurantes_japones_eua = df[(df['Cuisines'].str.contains('Japanese', case=False)) & (df['Country'] == 'United States of America')]\n",
    "restaurantes_churrascaria_eua = df[(df['Cuisines'].str.contains('BBQ', case=False)) & (df['Country'] == 'United States of America')]\n",
    "\n",
    "# Média de valor de um prato para duas pessoas para cada tipo\n",
    "custo_japones = restaurantes_japones_eua['Average Cost for two'].mean()\n",
    "custo_churrasco = restaurantes_churrascaria_eua['Average Cost for two'].mean()\n",
    "\n",
    "print(f\"Média de valor de um prato para duas pessoas em restaurantes japoneses nos EUA: {custo_japones:.2f}\")\n",
    "print(f\"Média de valor de um prato para duas pessoas em churrascarias americanas (BBQ) nos EUA: {custo_churrasco:.2f}\")\n",
    "\n",
    "if custo_japones > custo_churrasco:\n",
    "    print(\"Os restaurantes de culinária japonesa nos EUA possuem um valor médio de prato para duas pessoas maior que as churrascarias americanas (BBQ).\")\n",
    "else:\n",
    "    print(\"As churrascarias americanas (BBQ) possuem um valor médio de prato para duas pessoas maior que os restaurantes de culinária japonesa nos EUA.\")\n"
   ]
  },
  {
   "cell_type": "markdown",
   "id": "199ce7f2",
   "metadata": {},
   "source": [
    "<h3>Tipos de culinária<h3>"
   ]
  },
  {
   "cell_type": "code",
   "execution_count": 397,
   "id": "a6937137",
   "metadata": {},
   "outputs": [
    {
     "name": "stdout",
     "output_type": "stream",
     "text": [
      "O restaurante de culinária italiana com a maior média de avaliação é Amano Restaurant, com uma nota média de 4.90.\n"
     ]
    }
   ],
   "source": [
    "# Filtrar restaurantes de culinária italiana\n",
    "restaurantes_italianos = df[df['Cuisines'].str.contains('Italian', case=False)]\n",
    "\n",
    "# Restaurante italiano com a maior média de avaliação\n",
    "restaurante_italiano_maior_nota = restaurantes_italianos.groupby('Restaurant Name')['Aggregate rating'].mean().idxmax()\n",
    "maior_nota_italiano = restaurantes_italianos.groupby('Restaurant Name')['Aggregate rating'].mean().max()\n",
    "print(f\"O restaurante de culinária italiana com a maior média de avaliação é {restaurante_italiano_maior_nota}, com uma nota média de {maior_nota_italiano:.2f}.\")\n"
   ]
  },
  {
   "cell_type": "code",
   "execution_count": 398,
   "id": "ef42ff3c",
   "metadata": {},
   "outputs": [
    {
     "name": "stdout",
     "output_type": "stream",
     "text": [
      "O restaurante de culinária italiana com a menor média é Avenida Paulista, com uma nota média de 0.00.\n"
     ]
    }
   ],
   "source": [
    "# Restaurante italiano com a menor média de avaliação\n",
    "restaurante_italiano_menor_nota = restaurantes_italianos.groupby('Restaurant Name')['Aggregate rating'].mean().idxmin()\n",
    "menor_nota_italiano = restaurantes_italianos.groupby('Restaurant Name')['Aggregate rating'].mean().min()\n",
    "print(f\"O restaurante de culinária italiana com a menor média é {restaurante_italiano_menor_nota}, com uma nota média de {menor_nota_italiano:.2f}.\")\n"
   ]
  },
  {
   "cell_type": "code",
   "execution_count": 399,
   "id": "98727e2c",
   "metadata": {},
   "outputs": [
    {
     "name": "stdout",
     "output_type": "stream",
     "text": [
      "O restaurante de culinária americana com a maior média de avaliação é 5 Napkin Burger, com uma nota média de 4.90.\n"
     ]
    }
   ],
   "source": [
    "# Filtrar restaurantes de culinária americana\n",
    "restaurantes_americanos = df[df['Cuisines'].str.contains('American', case=False)]\n",
    "\n",
    "# Restaurante americano com a maior média de avaliação\n",
    "restaurante_americano_maior_nota = restaurantes_americanos.groupby('Restaurant Name')['Aggregate rating'].mean().idxmax()\n",
    "maior_nota_americano = restaurantes_americanos.groupby('Restaurant Name')['Aggregate rating'].mean().max()\n",
    "print(f\"O restaurante de culinária americana com a maior média de avaliação é {restaurante_americano_maior_nota}, com uma nota média de {maior_nota_americano:.2f}.\")\n"
   ]
  },
  {
   "cell_type": "code",
   "execution_count": 383,
   "id": "2d4f55b5",
   "metadata": {},
   "outputs": [
    {
     "name": "stdout",
     "output_type": "stream",
     "text": [
      "O restaurante de culinária americana com a menor média de avaliação é Alston Bar & Beef, com uma nota média de 0.00.\n"
     ]
    }
   ],
   "source": [
    "# Restaurante americano com a menor média de avaliação\n",
    "restaurante_americano_menor_nota = restaurantes_americanos.groupby('Restaurant Name')['Aggregate rating'].mean().idxmin()\n",
    "menor_nota_americano = restaurantes_americanos.groupby('Restaurant Name')['Aggregate rating'].mean().min()\n",
    "print(f\"O restaurante de culinária americana com a menor média de avaliação é {restaurante_americano_menor_nota}, com uma nota média de {menor_nota_americano:.2f}.\")\n"
   ]
  },
  {
   "cell_type": "code",
   "execution_count": 400,
   "id": "f8a6feca",
   "metadata": {},
   "outputs": [
    {
     "name": "stdout",
     "output_type": "stream",
     "text": [
      "O restaurante de culinária árabe com a maior média de avaliação é Mandi@36, com uma nota média de 4.70.\n"
     ]
    }
   ],
   "source": [
    "# Filtrar restaurantes de culinária árabe\n",
    "restaurantes_arabes = df[df['Cuisines'].str.contains('Arabian', case=False)]\n",
    "\n",
    "# Restaurante árabe com a maior média de avaliação\n",
    "restaurante_arabe_maior_nota = restaurantes_arabes.groupby('Restaurant Name')['Aggregate rating'].mean().idxmax()\n",
    "maior_nota_arabe = restaurantes_arabes.groupby('Restaurant Name')['Aggregate rating'].mean().max()\n",
    "print(f\"O restaurante de culinária árabe com a maior média de avaliação é {restaurante_arabe_maior_nota}, com uma nota média de {maior_nota_arabe:.2f}.\")\n"
   ]
  },
  {
   "cell_type": "code",
   "execution_count": 401,
   "id": "52fe7628",
   "metadata": {},
   "outputs": [
    {
     "name": "stdout",
     "output_type": "stream",
     "text": [
      "O restaurante de culinária árabe com a menor média de avaliação é Raful, com uma nota média de 0.00.\n"
     ]
    }
   ],
   "source": [
    "# Restaurante árabe com a menor média de avaliação\n",
    "restaurante_arabe_menor_nota = restaurantes_arabes.groupby('Restaurant Name')['Aggregate rating'].mean().idxmin()\n",
    "menor_nota_arabe = restaurantes_arabes.groupby('Restaurant Name')['Aggregate rating'].mean().min()\n",
    "print(f\"O restaurante de culinária árabe com a menor média de avaliação é {restaurante_arabe_menor_nota}, com uma nota média de {menor_nota_arabe:.2f}.\")\n"
   ]
  },
  {
   "cell_type": "code",
   "execution_count": 386,
   "id": "4ffc3c47",
   "metadata": {},
   "outputs": [
    {
     "name": "stdout",
     "output_type": "stream",
     "text": [
      "O restaurante de culinária japonesa com a maior média de avaliação é Chotto Matte, com uma nota média de 4.90.\n"
     ]
    }
   ],
   "source": [
    "# Filtrar restaurantes de culinária japonesa\n",
    "restaurantes_japoneses = df[df['Cuisines'].str.contains('Japanese', case=False)]\n",
    "\n",
    "# Restaurante japonês com a maior média de avaliação\n",
    "restaurante_japones_maior_nota = restaurantes_japoneses.groupby('Restaurant Name')['Aggregate rating'].mean().idxmax()\n",
    "maior_nota_japones = restaurantes_japoneses.groupby('Restaurant Name')['Aggregate rating'].mean().max()\n",
    "print(f\"O restaurante de culinária japonesa com a maior média de avaliação é {restaurante_japones_maior_nota}, com uma nota média de {maior_nota_japones:.2f}.\")\n"
   ]
  },
  {
   "cell_type": "code",
   "execution_count": 387,
   "id": "ea748794",
   "metadata": {},
   "outputs": [
    {
     "name": "stdout",
     "output_type": "stream",
     "text": [
      "O restaurante de culinária japonesa com a menor média de avaliação é Banzai Sushi, com uma nota média de 0.00.\n"
     ]
    }
   ],
   "source": [
    "# Restaurante japonês com a menor média de avaliação\n",
    "restaurante_japones_menor_nota = restaurantes_japoneses.groupby('Restaurant Name')['Aggregate rating'].mean().idxmin()\n",
    "menor_nota_japones = restaurantes_japoneses.groupby('Restaurant Name')['Aggregate rating'].mean().min()\n",
    "print(f\"O restaurante de culinária japonesa com a menor média de avaliação é {restaurante_japones_menor_nota}, com uma nota média de {menor_nota_japones:.2f}.\")\n"
   ]
  },
  {
   "cell_type": "code",
   "execution_count": 402,
   "id": "49d5d4be",
   "metadata": {},
   "outputs": [
    {
     "name": "stdout",
     "output_type": "stream",
     "text": [
      "O restaurante de culinária caseira com a maior média de avaliação é Kanaat Lokantası, com uma nota média de 4.00.\n"
     ]
    }
   ],
   "source": [
    "# Filtrar restaurantes de culinária caseira\n",
    "restaurantes_caseiros = df[df['Cuisines'].str.contains('Home', case=False)]\n",
    "\n",
    "# Restaurante de culinária caseira com a maior média de avaliação\n",
    "restaurante_caseiro_maior_nota = restaurantes_caseiros.groupby('Restaurant Name')['Aggregate rating'].mean().idxmax()\n",
    "maior_nota_caseiro = restaurantes_caseiros.groupby('Restaurant Name')['Aggregate rating'].mean().max()\n",
    "print(f\"O restaurante de culinária caseira com a maior média de avaliação é {restaurante_caseiro_maior_nota}, com uma nota média de {maior_nota_caseiro:.2f}.\")\n"
   ]
  },
  {
   "cell_type": "code",
   "execution_count": 403,
   "id": "efd2ecc2",
   "metadata": {},
   "outputs": [
    {
     "name": "stdout",
     "output_type": "stream",
     "text": [
      "O restaurante de culinária caseira com a menor média de avaliação é GurMekan Restaurant, com uma nota média de 3.70.\n"
     ]
    }
   ],
   "source": [
    "# Restaurante de culinária caseira com a menor média de avaliação\n",
    "restaurante_caseiro_menor_nota = restaurantes_caseiros.groupby('Restaurant Name')['Aggregate rating'].mean().idxmin()\n",
    "menor_nota_caseiro = restaurantes_caseiros.groupby('Restaurant Name')['Aggregate rating'].mean().min()\n",
    "print(f\"O restaurante de culinária caseira com a menor média de avaliação é {restaurante_caseiro_menor_nota}, com uma nota média de {menor_nota_caseiro:.2f}.\")\n"
   ]
  },
  {
   "cell_type": "code",
   "execution_count": 390,
   "id": "5e18c15e",
   "metadata": {},
   "outputs": [
    {
     "ename": "ValueError",
     "evalue": "attempt to get argmax of an empty sequence",
     "output_type": "error",
     "traceback": [
      "\u001b[1;31m---------------------------------------------------------------------------\u001b[0m",
      "\u001b[1;31mValueError\u001b[0m                                Traceback (most recent call last)",
      "Cell \u001b[1;32mIn[390], line 5\u001b[0m\n\u001b[0;32m      2\u001b[0m cuisine_avg_cost \u001b[38;5;241m=\u001b[39m df[\u001b[38;5;124m'\u001b[39m\u001b[38;5;124mCuisines\u001b[39m\u001b[38;5;124m'\u001b[39m]\u001b[38;5;241m.\u001b[39mstr\u001b[38;5;241m.\u001b[39msplit(\u001b[38;5;124m'\u001b[39m\u001b[38;5;124m, \u001b[39m\u001b[38;5;124m'\u001b[39m, expand\u001b[38;5;241m=\u001b[39m\u001b[38;5;28;01mTrue\u001b[39;00m)\u001b[38;5;241m.\u001b[39mstack()\u001b[38;5;241m.\u001b[39mgroupby(df[\u001b[38;5;124m'\u001b[39m\u001b[38;5;124mCuisines\u001b[39m\u001b[38;5;124m'\u001b[39m])\u001b[38;5;241m.\u001b[39mapply(\u001b[38;5;28;01mlambda\u001b[39;00m x: df\u001b[38;5;241m.\u001b[39mloc[x\u001b[38;5;241m.\u001b[39mindex, \u001b[38;5;124m'\u001b[39m\u001b[38;5;124mAverage Cost for two\u001b[39m\u001b[38;5;124m'\u001b[39m]\u001b[38;5;241m.\u001b[39mmean())\n\u001b[0;32m      4\u001b[0m \u001b[38;5;66;03m# Tipo de culinária com o maior valor médio\u001b[39;00m\n\u001b[1;32m----> 5\u001b[0m max_cost_cuisine \u001b[38;5;241m=\u001b[39m cuisine_avg_cost\u001b[38;5;241m.\u001b[39midxmax()\n\u001b[0;32m      6\u001b[0m max_cost_cuisine_value \u001b[38;5;241m=\u001b[39m cuisine_avg_cost\u001b[38;5;241m.\u001b[39mmax()\n\u001b[0;32m      7\u001b[0m \u001b[38;5;28mprint\u001b[39m(\u001b[38;5;124mf\u001b[39m\u001b[38;5;124m\"\u001b[39m\u001b[38;5;124mO tipo de culinária com o maior valor médio de um prato para duas pessoas é \u001b[39m\u001b[38;5;132;01m{\u001b[39;00mmax_cost_cuisine\u001b[38;5;132;01m}\u001b[39;00m\u001b[38;5;124m, com um valor médio de \u001b[39m\u001b[38;5;132;01m{\u001b[39;00mmax_cost_cuisine_value\u001b[38;5;132;01m:\u001b[39;00m\u001b[38;5;124m.2f\u001b[39m\u001b[38;5;132;01m}\u001b[39;00m\u001b[38;5;124m.\u001b[39m\u001b[38;5;124m\"\u001b[39m)\n",
      "File \u001b[1;32mc:\\Users\\lepep\\anaconda3\\Lib\\site-packages\\pandas\\core\\series.py:2761\u001b[0m, in \u001b[0;36mSeries.idxmax\u001b[1;34m(self, axis, skipna, *args, **kwargs)\u001b[0m\n\u001b[0;32m   2756\u001b[0m \u001b[38;5;28;01mwith\u001b[39;00m warnings\u001b[38;5;241m.\u001b[39mcatch_warnings():\n\u001b[0;32m   2757\u001b[0m     \u001b[38;5;66;03m# TODO(3.0): this catching/filtering can be removed\u001b[39;00m\n\u001b[0;32m   2758\u001b[0m     \u001b[38;5;66;03m# ignore warning produced by argmax since we will issue a different\u001b[39;00m\n\u001b[0;32m   2759\u001b[0m     \u001b[38;5;66;03m#  warning for argmax\u001b[39;00m\n\u001b[0;32m   2760\u001b[0m     warnings\u001b[38;5;241m.\u001b[39msimplefilter(\u001b[38;5;124m\"\u001b[39m\u001b[38;5;124mignore\u001b[39m\u001b[38;5;124m\"\u001b[39m)\n\u001b[1;32m-> 2761\u001b[0m     i \u001b[38;5;241m=\u001b[39m \u001b[38;5;28mself\u001b[39m\u001b[38;5;241m.\u001b[39margmax(axis, skipna, \u001b[38;5;241m*\u001b[39margs, \u001b[38;5;241m*\u001b[39m\u001b[38;5;241m*\u001b[39mkwargs)\n\u001b[0;32m   2763\u001b[0m \u001b[38;5;28;01mif\u001b[39;00m i \u001b[38;5;241m==\u001b[39m \u001b[38;5;241m-\u001b[39m\u001b[38;5;241m1\u001b[39m:\n\u001b[0;32m   2764\u001b[0m     \u001b[38;5;66;03m# GH#43587 give correct NA value for Index.\u001b[39;00m\n\u001b[0;32m   2765\u001b[0m     warnings\u001b[38;5;241m.\u001b[39mwarn(\n\u001b[0;32m   2766\u001b[0m         \u001b[38;5;124mf\u001b[39m\u001b[38;5;124m\"\u001b[39m\u001b[38;5;124mThe behavior of \u001b[39m\u001b[38;5;132;01m{\u001b[39;00m\u001b[38;5;28mtype\u001b[39m(\u001b[38;5;28mself\u001b[39m)\u001b[38;5;241m.\u001b[39m\u001b[38;5;18m__name__\u001b[39m\u001b[38;5;132;01m}\u001b[39;00m\u001b[38;5;124m.idxmax with all-NA \u001b[39m\u001b[38;5;124m\"\u001b[39m\n\u001b[0;32m   2767\u001b[0m         \u001b[38;5;124m\"\u001b[39m\u001b[38;5;124mvalues, or any-NA and skipna=False, is deprecated. In a future \u001b[39m\u001b[38;5;124m\"\u001b[39m\n\u001b[1;32m   (...)\u001b[0m\n\u001b[0;32m   2770\u001b[0m         stacklevel\u001b[38;5;241m=\u001b[39mfind_stack_level(),\n\u001b[0;32m   2771\u001b[0m     )\n",
      "File \u001b[1;32mc:\\Users\\lepep\\anaconda3\\Lib\\site-packages\\pandas\\core\\base.py:751\u001b[0m, in \u001b[0;36mIndexOpsMixin.argmax\u001b[1;34m(self, axis, skipna, *args, **kwargs)\u001b[0m\n\u001b[0;32m    749\u001b[0m         \u001b[38;5;28;01mreturn\u001b[39;00m delegate\u001b[38;5;241m.\u001b[39margmax()\n\u001b[0;32m    750\u001b[0m \u001b[38;5;28;01melse\u001b[39;00m:\n\u001b[1;32m--> 751\u001b[0m     result \u001b[38;5;241m=\u001b[39m nanops\u001b[38;5;241m.\u001b[39mnanargmax(delegate, skipna\u001b[38;5;241m=\u001b[39mskipna)\n\u001b[0;32m    752\u001b[0m     \u001b[38;5;28;01mif\u001b[39;00m result \u001b[38;5;241m==\u001b[39m \u001b[38;5;241m-\u001b[39m\u001b[38;5;241m1\u001b[39m:\n\u001b[0;32m    753\u001b[0m         warnings\u001b[38;5;241m.\u001b[39mwarn(\n\u001b[0;32m    754\u001b[0m             \u001b[38;5;124mf\u001b[39m\u001b[38;5;124m\"\u001b[39m\u001b[38;5;124mThe behavior of \u001b[39m\u001b[38;5;132;01m{\u001b[39;00m\u001b[38;5;28mtype\u001b[39m(\u001b[38;5;28mself\u001b[39m)\u001b[38;5;241m.\u001b[39m\u001b[38;5;18m__name__\u001b[39m\u001b[38;5;132;01m}\u001b[39;00m\u001b[38;5;124m.argmax/argmin \u001b[39m\u001b[38;5;124m\"\u001b[39m\n\u001b[0;32m    755\u001b[0m             \u001b[38;5;124m\"\u001b[39m\u001b[38;5;124mwith skipna=False and NAs, or with all-NAs is deprecated. \u001b[39m\u001b[38;5;124m\"\u001b[39m\n\u001b[1;32m   (...)\u001b[0m\n\u001b[0;32m    758\u001b[0m             stacklevel\u001b[38;5;241m=\u001b[39mfind_stack_level(),\n\u001b[0;32m    759\u001b[0m         )\n",
      "File \u001b[1;32mc:\\Users\\lepep\\anaconda3\\Lib\\site-packages\\pandas\\core\\nanops.py:1148\u001b[0m, in \u001b[0;36mnanargmax\u001b[1;34m(values, axis, skipna, mask)\u001b[0m\n\u001b[0;32m   1116\u001b[0m \u001b[38;5;250m\u001b[39m\u001b[38;5;124;03m\"\"\"\u001b[39;00m\n\u001b[0;32m   1117\u001b[0m \u001b[38;5;124;03mParameters\u001b[39;00m\n\u001b[0;32m   1118\u001b[0m \u001b[38;5;124;03m----------\u001b[39;00m\n\u001b[1;32m   (...)\u001b[0m\n\u001b[0;32m   1145\u001b[0m \u001b[38;5;124;03marray([2, 2, 1, 1])\u001b[39;00m\n\u001b[0;32m   1146\u001b[0m \u001b[38;5;124;03m\"\"\"\u001b[39;00m\n\u001b[0;32m   1147\u001b[0m values, mask \u001b[38;5;241m=\u001b[39m _get_values(values, \u001b[38;5;28;01mTrue\u001b[39;00m, fill_value_typ\u001b[38;5;241m=\u001b[39m\u001b[38;5;124m\"\u001b[39m\u001b[38;5;124m-inf\u001b[39m\u001b[38;5;124m\"\u001b[39m, mask\u001b[38;5;241m=\u001b[39mmask)\n\u001b[1;32m-> 1148\u001b[0m result \u001b[38;5;241m=\u001b[39m values\u001b[38;5;241m.\u001b[39margmax(axis)\n\u001b[0;32m   1149\u001b[0m \u001b[38;5;66;03m# error: Argument 1 to \"_maybe_arg_null_out\" has incompatible type \"Any |\u001b[39;00m\n\u001b[0;32m   1150\u001b[0m \u001b[38;5;66;03m# signedinteger[Any]\"; expected \"ndarray[Any, Any]\"\u001b[39;00m\n\u001b[0;32m   1151\u001b[0m result \u001b[38;5;241m=\u001b[39m _maybe_arg_null_out(result, axis, mask, skipna)  \u001b[38;5;66;03m# type: ignore[arg-type]\u001b[39;00m\n",
      "\u001b[1;31mValueError\u001b[0m: attempt to get argmax of an empty sequence"
     ]
    }
   ],
   "source": [
    "# Média de valor de um prato para duas pessoas por tipo de culinária\n",
    "cuisine_avg_cost = df['Cuisines'].str.split(', ', expand=True).stack().groupby(df['Cuisines']).apply(lambda x: df.loc[x.index, 'Average Cost for two'].mean())\n",
    "\n",
    "# Tipo de culinária com o maior valor médio\n",
    "max_cost_cuisine = cuisine_avg_cost.idxmax()\n",
    "max_cost_cuisine_value = cuisine_avg_cost.max()\n",
    "print(f\"O tipo de culinária com o maior valor médio de um prato para duas pessoas é {max_cost_cuisine}, com um valor médio de {max_cost_cuisine_value:.2f}.\")\n"
   ]
  },
  {
   "cell_type": "code",
   "execution_count": null,
   "id": "288db74f",
   "metadata": {},
   "outputs": [
    {
     "ename": "ValueError",
     "evalue": "attempt to get argmax of an empty sequence",
     "output_type": "error",
     "traceback": [
      "\u001b[1;31m---------------------------------------------------------------------------\u001b[0m",
      "\u001b[1;31mValueError\u001b[0m                                Traceback (most recent call last)",
      "Cell \u001b[1;32mIn[207], line 8\u001b[0m\n\u001b[0;32m      5\u001b[0m cuisine_online_delivery_count \u001b[38;5;241m=\u001b[39m online_delivery_restaurants[\u001b[38;5;124m'\u001b[39m\u001b[38;5;124mCuisines\u001b[39m\u001b[38;5;124m'\u001b[39m]\u001b[38;5;241m.\u001b[39mstr\u001b[38;5;241m.\u001b[39msplit(\u001b[38;5;124m'\u001b[39m\u001b[38;5;124m, \u001b[39m\u001b[38;5;124m'\u001b[39m, expand\u001b[38;5;241m=\u001b[39m\u001b[38;5;28;01mTrue\u001b[39;00m)\u001b[38;5;241m.\u001b[39mstack()\u001b[38;5;241m.\u001b[39mgroupby(online_delivery_restaurants[\u001b[38;5;124m'\u001b[39m\u001b[38;5;124mCuisines\u001b[39m\u001b[38;5;124m'\u001b[39m])\u001b[38;5;241m.\u001b[39mcount()\n\u001b[0;32m      7\u001b[0m \u001b[38;5;66;03m# Tipo de culinária com mais restaurantes que aceitam pedidos online e fazem entregas\u001b[39;00m\n\u001b[1;32m----> 8\u001b[0m max_online_delivery_cuisine \u001b[38;5;241m=\u001b[39m cuisine_online_delivery_count\u001b[38;5;241m.\u001b[39midxmax()\n\u001b[0;32m      9\u001b[0m max_online_delivery_cuisine_count \u001b[38;5;241m=\u001b[39m cuisine_online_delivery_count\u001b[38;5;241m.\u001b[39mmax()\n\u001b[0;32m     10\u001b[0m \u001b[38;5;28mprint\u001b[39m(\u001b[38;5;124mf\u001b[39m\u001b[38;5;124m\"\u001b[39m\u001b[38;5;124mO tipo de culinária com mais restaurantes que aceitam pedidos online e fazem entregas é \u001b[39m\u001b[38;5;132;01m{\u001b[39;00mmax_online_delivery_cuisine\u001b[38;5;132;01m}\u001b[39;00m\u001b[38;5;124m, com \u001b[39m\u001b[38;5;132;01m{\u001b[39;00mmax_online_delivery_cuisine_count\u001b[38;5;132;01m}\u001b[39;00m\u001b[38;5;124m restaurantes.\u001b[39m\u001b[38;5;124m\"\u001b[39m)\n",
      "File \u001b[1;32mc:\\Users\\lepep\\anaconda3\\Lib\\site-packages\\pandas\\core\\series.py:2761\u001b[0m, in \u001b[0;36mSeries.idxmax\u001b[1;34m(self, axis, skipna, *args, **kwargs)\u001b[0m\n\u001b[0;32m   2756\u001b[0m \u001b[38;5;28;01mwith\u001b[39;00m warnings\u001b[38;5;241m.\u001b[39mcatch_warnings():\n\u001b[0;32m   2757\u001b[0m     \u001b[38;5;66;03m# TODO(3.0): this catching/filtering can be removed\u001b[39;00m\n\u001b[0;32m   2758\u001b[0m     \u001b[38;5;66;03m# ignore warning produced by argmax since we will issue a different\u001b[39;00m\n\u001b[0;32m   2759\u001b[0m     \u001b[38;5;66;03m#  warning for argmax\u001b[39;00m\n\u001b[0;32m   2760\u001b[0m     warnings\u001b[38;5;241m.\u001b[39msimplefilter(\u001b[38;5;124m\"\u001b[39m\u001b[38;5;124mignore\u001b[39m\u001b[38;5;124m\"\u001b[39m)\n\u001b[1;32m-> 2761\u001b[0m     i \u001b[38;5;241m=\u001b[39m \u001b[38;5;28mself\u001b[39m\u001b[38;5;241m.\u001b[39margmax(axis, skipna, \u001b[38;5;241m*\u001b[39margs, \u001b[38;5;241m*\u001b[39m\u001b[38;5;241m*\u001b[39mkwargs)\n\u001b[0;32m   2763\u001b[0m \u001b[38;5;28;01mif\u001b[39;00m i \u001b[38;5;241m==\u001b[39m \u001b[38;5;241m-\u001b[39m\u001b[38;5;241m1\u001b[39m:\n\u001b[0;32m   2764\u001b[0m     \u001b[38;5;66;03m# GH#43587 give correct NA value for Index.\u001b[39;00m\n\u001b[0;32m   2765\u001b[0m     warnings\u001b[38;5;241m.\u001b[39mwarn(\n\u001b[0;32m   2766\u001b[0m         \u001b[38;5;124mf\u001b[39m\u001b[38;5;124m\"\u001b[39m\u001b[38;5;124mThe behavior of \u001b[39m\u001b[38;5;132;01m{\u001b[39;00m\u001b[38;5;28mtype\u001b[39m(\u001b[38;5;28mself\u001b[39m)\u001b[38;5;241m.\u001b[39m\u001b[38;5;18m__name__\u001b[39m\u001b[38;5;132;01m}\u001b[39;00m\u001b[38;5;124m.idxmax with all-NA \u001b[39m\u001b[38;5;124m\"\u001b[39m\n\u001b[0;32m   2767\u001b[0m         \u001b[38;5;124m\"\u001b[39m\u001b[38;5;124mvalues, or any-NA and skipna=False, is deprecated. In a future \u001b[39m\u001b[38;5;124m\"\u001b[39m\n\u001b[1;32m   (...)\u001b[0m\n\u001b[0;32m   2770\u001b[0m         stacklevel\u001b[38;5;241m=\u001b[39mfind_stack_level(),\n\u001b[0;32m   2771\u001b[0m     )\n",
      "File \u001b[1;32mc:\\Users\\lepep\\anaconda3\\Lib\\site-packages\\pandas\\core\\base.py:751\u001b[0m, in \u001b[0;36mIndexOpsMixin.argmax\u001b[1;34m(self, axis, skipna, *args, **kwargs)\u001b[0m\n\u001b[0;32m    749\u001b[0m         \u001b[38;5;28;01mreturn\u001b[39;00m delegate\u001b[38;5;241m.\u001b[39margmax()\n\u001b[0;32m    750\u001b[0m \u001b[38;5;28;01melse\u001b[39;00m:\n\u001b[1;32m--> 751\u001b[0m     result \u001b[38;5;241m=\u001b[39m nanops\u001b[38;5;241m.\u001b[39mnanargmax(delegate, skipna\u001b[38;5;241m=\u001b[39mskipna)\n\u001b[0;32m    752\u001b[0m     \u001b[38;5;28;01mif\u001b[39;00m result \u001b[38;5;241m==\u001b[39m \u001b[38;5;241m-\u001b[39m\u001b[38;5;241m1\u001b[39m:\n\u001b[0;32m    753\u001b[0m         warnings\u001b[38;5;241m.\u001b[39mwarn(\n\u001b[0;32m    754\u001b[0m             \u001b[38;5;124mf\u001b[39m\u001b[38;5;124m\"\u001b[39m\u001b[38;5;124mThe behavior of \u001b[39m\u001b[38;5;132;01m{\u001b[39;00m\u001b[38;5;28mtype\u001b[39m(\u001b[38;5;28mself\u001b[39m)\u001b[38;5;241m.\u001b[39m\u001b[38;5;18m__name__\u001b[39m\u001b[38;5;132;01m}\u001b[39;00m\u001b[38;5;124m.argmax/argmin \u001b[39m\u001b[38;5;124m\"\u001b[39m\n\u001b[0;32m    755\u001b[0m             \u001b[38;5;124m\"\u001b[39m\u001b[38;5;124mwith skipna=False and NAs, or with all-NAs is deprecated. \u001b[39m\u001b[38;5;124m\"\u001b[39m\n\u001b[1;32m   (...)\u001b[0m\n\u001b[0;32m    758\u001b[0m             stacklevel\u001b[38;5;241m=\u001b[39mfind_stack_level(),\n\u001b[0;32m    759\u001b[0m         )\n",
      "File \u001b[1;32mc:\\Users\\lepep\\anaconda3\\Lib\\site-packages\\pandas\\core\\nanops.py:1148\u001b[0m, in \u001b[0;36mnanargmax\u001b[1;34m(values, axis, skipna, mask)\u001b[0m\n\u001b[0;32m   1116\u001b[0m \u001b[38;5;250m\u001b[39m\u001b[38;5;124;03m\"\"\"\u001b[39;00m\n\u001b[0;32m   1117\u001b[0m \u001b[38;5;124;03mParameters\u001b[39;00m\n\u001b[0;32m   1118\u001b[0m \u001b[38;5;124;03m----------\u001b[39;00m\n\u001b[1;32m   (...)\u001b[0m\n\u001b[0;32m   1145\u001b[0m \u001b[38;5;124;03marray([2, 2, 1, 1])\u001b[39;00m\n\u001b[0;32m   1146\u001b[0m \u001b[38;5;124;03m\"\"\"\u001b[39;00m\n\u001b[0;32m   1147\u001b[0m values, mask \u001b[38;5;241m=\u001b[39m _get_values(values, \u001b[38;5;28;01mTrue\u001b[39;00m, fill_value_typ\u001b[38;5;241m=\u001b[39m\u001b[38;5;124m\"\u001b[39m\u001b[38;5;124m-inf\u001b[39m\u001b[38;5;124m\"\u001b[39m, mask\u001b[38;5;241m=\u001b[39mmask)\n\u001b[1;32m-> 1148\u001b[0m result \u001b[38;5;241m=\u001b[39m values\u001b[38;5;241m.\u001b[39margmax(axis)\n\u001b[0;32m   1149\u001b[0m \u001b[38;5;66;03m# error: Argument 1 to \"_maybe_arg_null_out\" has incompatible type \"Any |\u001b[39;00m\n\u001b[0;32m   1150\u001b[0m \u001b[38;5;66;03m# signedinteger[Any]\"; expected \"ndarray[Any, Any]\"\u001b[39;00m\n\u001b[0;32m   1151\u001b[0m result \u001b[38;5;241m=\u001b[39m _maybe_arg_null_out(result, axis, mask, skipna)  \u001b[38;5;66;03m# type: ignore[arg-type]\u001b[39;00m\n",
      "\u001b[1;31mValueError\u001b[0m: attempt to get argmax of an empty sequence"
     ]
    }
   ],
   "source": [
    "# Filtrar restaurantes que aceitam pedidos online e fazem entregas\n",
    "online_delivery_restaurants = df[(df['Has Online delivery'] == 1) & (df['Is delivering now'] == 1)]\n",
    "\n",
    "# Contar número de restaurantes por tipo de culinária\n",
    "cuisine_online_delivery_count = online_delivery_restaurants['Cuisines'].str.split(', ', expand=True).stack().groupby(online_delivery_restaurants['Cuisines']).count()\n",
    "\n",
    "# Tipo de culinária com mais restaurantes que aceitam pedidos online e fazem entregas\n",
    "max_online_delivery_cuisine = cuisine_online_delivery_count.idxmax()\n",
    "max_online_delivery_cuisine_count = cuisine_online_delivery_count.max()\n",
    "print(f\"O tipo de culinária com mais restaurantes que aceitam pedidos online e fazem entregas é {max_online_delivery_cuisine}, com {max_online_delivery_cuisine_count} restaurantes.\")\n"
   ]
  }
 ],
 "metadata": {
  "kernelspec": {
   "display_name": "Python 3 (ipykernel)",
   "language": "python",
   "name": "python3"
  },
  "language_info": {
   "codemirror_mode": {
    "name": "ipython",
    "version": 3
   },
   "file_extension": ".py",
   "mimetype": "text/x-python",
   "name": "python",
   "nbconvert_exporter": "python",
   "pygments_lexer": "ipython3",
   "version": "3.12.4"
  }
 },
 "nbformat": 4,
 "nbformat_minor": 5
}
