{
 "cells": [
  {
   "cell_type": "code",
   "execution_count": 27,
   "id": "cff4a11c-6f63-4436-8817-3423f0d96820",
   "metadata": {},
   "outputs": [
    {
     "data": {
      "text/plain": [
       "(7527, 21)"
      ]
     },
     "execution_count": 27,
     "metadata": {},
     "output_type": "execute_result"
    }
   ],
   "source": [
    "import pandas as pd\n",
    "\n",
    "df = pd.read_csv(\"zomato.csv\")\n",
    "\n",
    "df.shape\n"
   ]
  },
  {
   "cell_type": "code",
   "execution_count": 28,
   "id": "cb09c800-3ae1-47ea-a8bf-1d7a0f8ec9f2",
   "metadata": {},
   "outputs": [
    {
     "data": {
      "text/html": [
       "<div>\n",
       "<style scoped>\n",
       "    .dataframe tbody tr th:only-of-type {\n",
       "        vertical-align: middle;\n",
       "    }\n",
       "\n",
       "    .dataframe tbody tr th {\n",
       "        vertical-align: top;\n",
       "    }\n",
       "\n",
       "    .dataframe thead th {\n",
       "        text-align: right;\n",
       "    }\n",
       "</style>\n",
       "<table border=\"1\" class=\"dataframe\">\n",
       "  <thead>\n",
       "    <tr style=\"text-align: right;\">\n",
       "      <th></th>\n",
       "      <th>Restaurant ID</th>\n",
       "      <th>Restaurant Name</th>\n",
       "      <th>Country Code</th>\n",
       "      <th>City</th>\n",
       "      <th>Address</th>\n",
       "      <th>Locality</th>\n",
       "      <th>Locality Verbose</th>\n",
       "      <th>Longitude</th>\n",
       "      <th>Latitude</th>\n",
       "      <th>Cuisines</th>\n",
       "      <th>...</th>\n",
       "      <th>Currency</th>\n",
       "      <th>Has Table booking</th>\n",
       "      <th>Has Online delivery</th>\n",
       "      <th>Is delivering now</th>\n",
       "      <th>Switch to order menu</th>\n",
       "      <th>Price range</th>\n",
       "      <th>Aggregate rating</th>\n",
       "      <th>Rating color</th>\n",
       "      <th>Rating text</th>\n",
       "      <th>Votes</th>\n",
       "    </tr>\n",
       "  </thead>\n",
       "  <tbody>\n",
       "    <tr>\n",
       "      <th>0</th>\n",
       "      <td>6310675</td>\n",
       "      <td>Mama Lou's Italian Kitchen</td>\n",
       "      <td>162</td>\n",
       "      <td>Las Piñas City</td>\n",
       "      <td>Block 1, Lot 36, Tropical Avenue Corner Tropic...</td>\n",
       "      <td>BF International</td>\n",
       "      <td>BF International, Las Piñas City</td>\n",
       "      <td>121.009787</td>\n",
       "      <td>14.447615</td>\n",
       "      <td>Italian</td>\n",
       "      <td>...</td>\n",
       "      <td>Botswana Pula(P)</td>\n",
       "      <td>1</td>\n",
       "      <td>0</td>\n",
       "      <td>0</td>\n",
       "      <td>0</td>\n",
       "      <td>3</td>\n",
       "      <td>4.6</td>\n",
       "      <td>3F7E00</td>\n",
       "      <td>Excellent</td>\n",
       "      <td>619</td>\n",
       "    </tr>\n",
       "  </tbody>\n",
       "</table>\n",
       "<p>1 rows × 21 columns</p>\n",
       "</div>"
      ],
      "text/plain": [
       "   Restaurant ID             Restaurant Name  Country Code            City  \\\n",
       "0        6310675  Mama Lou's Italian Kitchen           162  Las Piñas City   \n",
       "\n",
       "                                             Address          Locality  \\\n",
       "0  Block 1, Lot 36, Tropical Avenue Corner Tropic...  BF International   \n",
       "\n",
       "                   Locality Verbose   Longitude   Latitude Cuisines  ...  \\\n",
       "0  BF International, Las Piñas City  121.009787  14.447615  Italian  ...   \n",
       "\n",
       "           Currency Has Table booking  Has Online delivery  Is delivering now  \\\n",
       "0  Botswana Pula(P)                 1                    0                  0   \n",
       "\n",
       "   Switch to order menu  Price range  Aggregate rating  Rating color  \\\n",
       "0                     0            3               4.6        3F7E00   \n",
       "\n",
       "  Rating text Votes  \n",
       "0   Excellent   619  \n",
       "\n",
       "[1 rows x 21 columns]"
      ]
     },
     "execution_count": 28,
     "metadata": {},
     "output_type": "execute_result"
    }
   ],
   "source": [
    "df.head(1)"
   ]
  },
  {
   "cell_type": "code",
   "execution_count": 29,
   "id": "b13382c3-42c4-41b1-bdc7-ede3fe0f36fb",
   "metadata": {},
   "outputs": [
    {
     "data": {
      "text/plain": [
       "Restaurant ID            0\n",
       "Restaurant Name          0\n",
       "Country Code             0\n",
       "City                     0\n",
       "Address                  0\n",
       "Locality                 0\n",
       "Locality Verbose         0\n",
       "Longitude                0\n",
       "Latitude                 0\n",
       "Cuisines                15\n",
       "Average Cost for two     0\n",
       "Currency                 0\n",
       "Has Table booking        0\n",
       "Has Online delivery      0\n",
       "Is delivering now        0\n",
       "Switch to order menu     0\n",
       "Price range              0\n",
       "Aggregate rating         0\n",
       "Rating color             0\n",
       "Rating text              0\n",
       "Votes                    0\n",
       "dtype: int64"
      ]
     },
     "execution_count": 29,
     "metadata": {},
     "output_type": "execute_result"
    }
   ],
   "source": [
    "df.isnull().sum()"
   ]
  },
  {
   "cell_type": "code",
   "execution_count": 34,
   "id": "8f4fe00b-6d4a-4a3b-a63f-39de67ad2a92",
   "metadata": {},
   "outputs": [
    {
     "data": {
      "text/plain": [
       "(6929, 20)"
      ]
     },
     "execution_count": 34,
     "metadata": {},
     "output_type": "execute_result"
    }
   ],
   "source": [
    "df = df.drop_duplicates()\n",
    "df = df.dropna()\n",
    "df = df.drop(columns=[\"Switch to order menu\"])\n",
    "\n",
    "df.shape"
   ]
  },
  {
   "cell_type": "code",
   "execution_count": null,
   "id": "b6ac4660-e37c-4811-9b1c-a8a0f6a7d062",
   "metadata": {},
   "outputs": [],
   "source": [
    "df[\"\"]"
   ]
  }
 ],
 "metadata": {
  "kernelspec": {
   "display_name": "Python 3 (ipykernel)",
   "language": "python",
   "name": "python3"
  },
  "language_info": {
   "codemirror_mode": {
    "name": "ipython",
    "version": 3
   },
   "file_extension": ".py",
   "mimetype": "text/x-python",
   "name": "python",
   "nbconvert_exporter": "python",
   "pygments_lexer": "ipython3",
   "version": "3.12.3"
  }
 },
 "nbformat": 4,
 "nbformat_minor": 5
}
